{
 "cells": [
  {
   "cell_type": "code",
   "execution_count": 3,
   "id": "819b35f0-c9d5-4961-bfdf-05480c31cc60",
   "metadata": {},
   "outputs": [],
   "source": [
    "import numpy as np"
   ]
  },
  {
   "cell_type": "code",
   "execution_count": 64,
   "id": "aa363b90-0ac6-454b-82b6-0419d9338439",
   "metadata": {},
   "outputs": [],
   "source": [
    "def purity(arr):\n",
    "    x = np.count_nonzero(arr == 0)\n",
    "    x1 = np.count_nonzero(arr == 1)\n",
    "    l = (x1/len(arr))*100\n",
    "    return print(f'The Impurity of cluster is {l}')"
   ]
  },
  {
   "cell_type": "code",
   "execution_count": 66,
   "id": "7854e2c1-db78-444b-87fc-1c839705c94c",
   "metadata": {},
   "outputs": [
    {
     "name": "stdout",
     "output_type": "stream",
     "text": [
      "The Impurity of cluster is 75.0\n"
     ]
    }
   ],
   "source": [
    "arr = np.array([1,1,1,0])\n",
    "purity(arr)"
   ]
  },
  {
   "cell_type": "code",
   "execution_count": 67,
   "id": "fe9bdc30-5db9-406f-b053-611a56cc116f",
   "metadata": {},
   "outputs": [],
   "source": [
    "X = [13,4,8,9,15,26]\n",
    "y = [1,0,0,0,1,1]"
   ]
  },
  {
   "cell_type": "code",
   "execution_count": 83,
   "id": "5c850198-84ec-42d5-9cd0-3ce4fda45522",
   "metadata": {},
   "outputs": [],
   "source": [
    "def impurity_split(X,y):\n",
    "    data = len(X)\n",
    "    label = len(y)\n",
    "    if data == label:\n",
    "        data_sort1=[]\n",
    "        data_sort0=[]\n",
    "        label_sort1=[]\n",
    "        label_sort0=[]\n",
    "        for i in range(len(X)):\n",
    "            if y[i] == 1:\n",
    "                data_sort1.append(X[i])\n",
    "                label_sort1.append(y[i])\n",
    "                #print(purity(label_sort1))\n",
    "            if y[i] == 0:\n",
    "                data_sort0.append(X[i])\n",
    "                label_sort0.append(y[i])\n",
    "                #print(purity(label_sort0))\n",
    "        print(f'the sorted data {data_sort1}:{label_sort1} \\nsorted zeros {data_sort0}:{label_sort0}')\n",
    "            \n",
    "    "
   ]
  },
  {
   "cell_type": "code",
   "execution_count": 84,
   "id": "0ce97083-7561-4a9e-bf41-64b141a35665",
   "metadata": {},
   "outputs": [
    {
     "name": "stdout",
     "output_type": "stream",
     "text": [
      "the sorted data [13, 15, 26]:[1, 1, 1] \n",
      "sorted zeros [4, 8, 9]:[0, 0, 0]\n"
     ]
    }
   ],
   "source": [
    "impurity_split(X,y)\n"
   ]
  },
  {
   "cell_type": "code",
   "execution_count": 4,
   "id": "c52c8449-215f-4ba5-ae15-2fdad750bd05",
   "metadata": {},
   "outputs": [],
   "source": [
    "import numpy as np\n",
    "setA = np.array([1,2,3,2,3])\n",
    "setB = np.array([10,1,20,0,2])\n",
    "\n",
    "x1 = np.mean(setA)\n",
    "y1 = np.mean(setB)"
   ]
  },
  {
   "cell_type": "code",
   "execution_count": 10,
   "id": "e2f1ce9c-f7c7-437f-b2a9-5cab2c4c71dc",
   "metadata": {},
   "outputs": [],
   "source": [
    "def variance(x):\n",
    "    x1 = np.mean(x)\n",
    "    diff = x - x1\n",
    "    sqdiff = diff * diff\n",
    "    total = np.sum(sqdiff)\n",
    "    return total\n"
   ]
  },
  {
   "cell_type": "code",
   "execution_count": 11,
   "id": "6d9cb6f1-fca5-42c0-89ad-b7ac3f2e52f0",
   "metadata": {},
   "outputs": [
    {
     "data": {
      "text/plain": [
       "(2.8, 287.20000000000005)"
      ]
     },
     "execution_count": 11,
     "metadata": {},
     "output_type": "execute_result"
    }
   ],
   "source": [
    "variance(setA),variance(setB)"
   ]
  },
  {
   "cell_type": "code",
   "execution_count": 15,
   "id": "140e0c96-b250-4dde-8a36-cefacfbc7d3c",
   "metadata": {},
   "outputs": [
    {
     "name": "stdout",
     "output_type": "stream",
     "text": [
      "40.5 392.0\n"
     ]
    }
   ],
   "source": [
    "left = [1,10]\n",
    "right = [2,30]\n",
    "print(variance(left),variance(right))"
   ]
  },
  {
   "cell_type": "code",
   "execution_count": 18,
   "id": "f5402413-e80f-4af0-909f-ef1d5fc3e9e3",
   "metadata": {},
   "outputs": [],
   "source": [
    "def optimal_split(data):\n",
    "    x = data.sort()\n",
    "    left_side = []\n",
    "    for i in range(len(x)):\n",
    "        left_side=left_side.append(x[i])\n",
    "        l=print(variance(left_side))\n",
    "        x = x.drop(x[i])\n",
    "        xi=print(variance(x))\n",
    "        if len(l) >= 1:\n",
    "            break\n",
    "    return l,x"
   ]
  },
  {
   "cell_type": "code",
   "execution_count": 19,
   "id": "2345ca53-1c60-41cd-9c4c-87413df0d3d7",
   "metadata": {},
   "outputs": [],
   "source": [
    "optimal_split(right)"
   ]
  },
  {
   "cell_type": "code",
   "execution_count": 55,
   "id": "c4eda6dd-7110-4ae0-a66d-5b7db2a89c9a",
   "metadata": {},
   "outputs": [],
   "source": [
    "def stochastic_split(data,epochs=100):\n",
    "    best_score = float('inf')\n",
    "    var_right = 0\n",
    "    var_left = 0\n",
    "    best_split = None\n",
    "    best_score_arr = []\n",
    "    i_old= []\n",
    "    for i in range(epochs):\n",
    "        i = np.random.randint(1,len(data))\n",
    "        left = data[i:]\n",
    "        right = data[:i]\n",
    "        var_left = variance(left)\n",
    "        var_rigth = variance(right)\n",
    "\n",
    "        total_var = (len(left)*var_left + len(right)*var_right)/len(data)\n",
    "        best_score_arr.append(total_var)\n",
    "        i_old.append(i)\n",
    "\n",
    "    c = (best_score_arr)\n",
    "    c1 = i_old\n",
    "    return print(f'the variance{c}\\nthe split index{i_old}')"
   ]
  },
  {
   "cell_type": "code",
   "execution_count": 59,
   "id": "6177ab9c-9d20-4b33-ab1e-9e868a0ea093",
   "metadata": {},
   "outputs": [
    {
     "name": "stdout",
     "output_type": "stream",
     "text": [
      "[8, 11, 12] [1, 2, 5]\n"
     ]
    }
   ],
   "source": [
    "data = [1,2,5,8,11,12]\n",
    "i = 3\n",
    "left = data[i:]\n",
    "right = data[:i]\n",
    "print(left,right)"
   ]
  },
  {
   "cell_type": "code",
   "execution_count": 57,
   "id": "bd654b09-0202-4360-bd23-a990cf1070fd",
   "metadata": {},
   "outputs": [
    {
     "name": "stdout",
     "output_type": "stream",
     "text": [
      "the variance[57.666666666666664, 20.0, 4.333333333333334, 0.16666666666666666, 57.666666666666664, 20.0, 0.16666666666666666, 0.0, 4.333333333333334, 0.16666666666666666, 20.0, 4.333333333333334, 20.0, 0.16666666666666666, 4.333333333333334, 0.16666666666666666, 20.0, 0.16666666666666666, 0.16666666666666666, 0.16666666666666666, 4.333333333333334, 20.0, 20.0, 0.0, 57.666666666666664, 57.666666666666664, 20.0, 20.0, 4.333333333333334, 20.0, 20.0, 20.0, 4.333333333333334, 57.666666666666664, 20.0, 57.666666666666664, 0.16666666666666666, 57.666666666666664, 4.333333333333334, 4.333333333333334, 0.0, 20.0, 0.0, 20.0, 0.16666666666666666, 0.16666666666666666, 0.0, 57.666666666666664, 0.16666666666666666, 0.16666666666666666, 20.0, 4.333333333333334, 4.333333333333334, 0.16666666666666666, 0.16666666666666666, 0.0, 57.666666666666664, 0.16666666666666666, 0.0, 0.0, 4.333333333333334, 0.0, 4.333333333333334, 4.333333333333334, 20.0, 4.333333333333334, 0.16666666666666666, 20.0, 0.0, 20.0, 57.666666666666664, 0.0, 20.0, 0.0, 20.0, 4.333333333333334, 0.16666666666666666, 57.666666666666664, 0.16666666666666666, 4.333333333333334, 20.0, 4.333333333333334, 0.0, 4.333333333333334, 57.666666666666664, 4.333333333333334, 4.333333333333334, 0.16666666666666666, 20.0, 0.16666666666666666, 0.16666666666666666, 0.16666666666666666, 0.0, 0.16666666666666666, 4.333333333333334, 20.0, 4.333333333333334, 57.666666666666664, 0.0, 0.0]\n",
      "the split index[1, 2, 3, 4, 1, 2, 4, 5, 3, 4, 2, 3, 2, 4, 3, 4, 2, 4, 4, 4, 3, 2, 2, 5, 1, 1, 2, 2, 3, 2, 2, 2, 3, 1, 2, 1, 4, 1, 3, 3, 5, 2, 5, 2, 4, 4, 5, 1, 4, 4, 2, 3, 3, 4, 4, 5, 1, 4, 5, 5, 3, 5, 3, 3, 2, 3, 4, 2, 5, 2, 1, 5, 2, 5, 2, 3, 4, 1, 4, 3, 2, 3, 5, 3, 1, 3, 3, 4, 2, 4, 4, 4, 5, 4, 3, 2, 3, 1, 5, 5]\n"
     ]
    }
   ],
   "source": [
    "stochastic_split(data,epochs=100)"
   ]
  },
  {
   "cell_type": "code",
   "execution_count": null,
   "id": "6c136d7b-a105-4234-a87d-c844c73598f8",
   "metadata": {},
   "outputs": [],
   "source": []
  },
  {
   "cell_type": "code",
   "execution_count": null,
   "id": "68678645-658c-47eb-ab18-b8d2d32d23f1",
   "metadata": {},
   "outputs": [],
   "source": []
  }
 ],
 "metadata": {
  "kernelspec": {
   "display_name": "Python 3 (ipykernel)",
   "language": "python",
   "name": "python3"
  },
  "language_info": {
   "codemirror_mode": {
    "name": "ipython",
    "version": 3
   },
   "file_extension": ".py",
   "mimetype": "text/x-python",
   "name": "python",
   "nbconvert_exporter": "python",
   "pygments_lexer": "ipython3",
   "version": "3.9.21"
  }
 },
 "nbformat": 4,
 "nbformat_minor": 5
}
