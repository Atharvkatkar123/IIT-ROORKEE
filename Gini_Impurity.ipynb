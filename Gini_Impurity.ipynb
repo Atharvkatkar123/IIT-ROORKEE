{
 "cells": [
  {
   "cell_type": "code",
   "execution_count": 3,
   "id": "819b35f0-c9d5-4961-bfdf-05480c31cc60",
   "metadata": {},
   "outputs": [],
   "source": [
    "import numpy as np"
   ]
  },
  {
   "cell_type": "code",
   "execution_count": 64,
   "id": "aa363b90-0ac6-454b-82b6-0419d9338439",
   "metadata": {},
   "outputs": [],
   "source": [
    "def purity(arr):\n",
    "    x = np.count_nonzero(arr == 0)\n",
    "    x1 = np.count_nonzero(arr == 1)\n",
    "    l = (x1/len(arr))*100\n",
    "    return print(f'The Impurity of cluster is {l}')"
   ]
  },
  {
   "cell_type": "code",
   "execution_count": 66,
   "id": "7854e2c1-db78-444b-87fc-1c839705c94c",
   "metadata": {},
   "outputs": [
    {
     "name": "stdout",
     "output_type": "stream",
     "text": [
      "The Impurity of cluster is 75.0\n"
     ]
    }
   ],
   "source": [
    "arr = np.array([1,1,1,0])\n",
    "purity(arr)"
   ]
  },
  {
   "cell_type": "code",
   "execution_count": 67,
   "id": "fe9bdc30-5db9-406f-b053-611a56cc116f",
   "metadata": {},
   "outputs": [],
   "source": [
    "X = [13,4,8,9,15,26]\n",
    "y = [1,0,0,0,1,1]"
   ]
  },
  {
   "cell_type": "code",
   "execution_count": 83,
   "id": "5c850198-84ec-42d5-9cd0-3ce4fda45522",
   "metadata": {},
   "outputs": [],
   "source": [
    "def impurity_split(X,y):\n",
    "    data = len(X)\n",
    "    label = len(y)\n",
    "    if data == label:\n",
    "        data_sort1=[]\n",
    "        data_sort0=[]\n",
    "        label_sort1=[]\n",
    "        label_sort0=[]\n",
    "        for i in range(len(X)):\n",
    "            if y[i] == 1:\n",
    "                data_sort1.append(X[i])\n",
    "                label_sort1.append(y[i])\n",
    "                #print(purity(label_sort1))\n",
    "            if y[i] == 0:\n",
    "                data_sort0.append(X[i])\n",
    "                label_sort0.append(y[i])\n",
    "                #print(purity(label_sort0))\n",
    "        print(f'the sorted data {data_sort1}:{label_sort1} \\nsorted zeros {data_sort0}:{label_sort0}')\n",
    "            \n",
    "    "
   ]
  },
  {
   "cell_type": "code",
   "execution_count": 84,
   "id": "0ce97083-7561-4a9e-bf41-64b141a35665",
   "metadata": {},
   "outputs": [
    {
     "name": "stdout",
     "output_type": "stream",
     "text": [
      "the sorted data [13, 15, 26]:[1, 1, 1] \n",
      "sorted zeros [4, 8, 9]:[0, 0, 0]\n"
     ]
    }
   ],
   "source": [
    "impurity_split(X,y)\n"
   ]
  },
  {
   "cell_type": "code",
   "execution_count": null,
   "id": "c52c8449-215f-4ba5-ae15-2fdad750bd05",
   "metadata": {},
   "outputs": [],
   "source": []
  }
 ],
 "metadata": {
  "kernelspec": {
   "display_name": "Python 3 (ipykernel)",
   "language": "python",
   "name": "python3"
  },
  "language_info": {
   "codemirror_mode": {
    "name": "ipython",
    "version": 3
   },
   "file_extension": ".py",
   "mimetype": "text/x-python",
   "name": "python",
   "nbconvert_exporter": "python",
   "pygments_lexer": "ipython3",
   "version": "3.9.21"
  }
 },
 "nbformat": 4,
 "nbformat_minor": 5
}
