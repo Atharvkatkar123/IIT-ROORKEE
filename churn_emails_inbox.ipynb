{
 "cells": [
  {
   "cell_type": "code",
   "execution_count": 1,
   "metadata": {},
   "outputs": [
    {
     "name": "stdout",
     "output_type": "stream",
     "text": [
      "From stephen.marquard@uct.ac.za Sat Jan  5 09:14:16 2008\r\n",
      "Return-Path: <postmaster@collab.sakaiproject.org>\r\n",
      "Received: from murder (mail.umich.edu [141.211.14.90])\r\n",
      "\t by frankenstein.mail.umich.edu (Cyrus v2.3.8) with LMTPA;\r\n",
      "\t Sat, 05 Jan 2008 09:14:16 -0500\r\n",
      "X-Sieve: CMU Sieve 2.3\r\n",
      "Received: from murder ([unix socket])\r\n",
      "\t by mail.umich.edu (Cyrus v2.2.12) with LMTPA;\r\n",
      "\t Sat, 05 Jan 2008 09:14:16 -0500\r\n",
      "Received: from holes.mr.itd.umich.edu (holes.mr.itd.umich.edu [141.211.14.79])\r\n",
      "\tby flawless.mail.umich.edu () with ESMTP id m05EEFR1013674;\r\n",
      "\tSat, 5 Jan 2008 09:14:15 -0500\r\n",
      "Received: FROM paploo.uhi.ac.uk (app1.prod.collab.uhi.ac.uk [194.35.219.184])\r\n",
      "\tBY holes.mr.itd.umich.edu ID 477F90B0.2DB2F.12494 ; \r\n",
      "\t 5 Jan 2008 09:14:10 -0500\r\n"
     ]
    }
   ],
   "source": [
    "!head -n15 /cxldata/datasets/project/mbox-short.txt"
   ]
  },
  {
   "cell_type": "code",
   "execution_count": 2,
   "metadata": {},
   "outputs": [],
   "source": [
    "fhand = open('/cxldata/datasets/project/mbox-short.txt')\n",
    "inp = fhand.read()\n",
    "fhand.close()"
   ]
  },
  {
   "cell_type": "code",
   "execution_count": 7,
   "metadata": {},
   "outputs": [
    {
     "name": "stdout",
     "output_type": "stream",
     "text": [
      "1910\n"
     ]
    }
   ],
   "source": [
    "def number_of_lines():\n",
    "    with open('/cxldata/datasets/project/mbox-short.txt') as fhand:  # Use 'with' to auto-close file\n",
    "        lines = fhand.readlines() \n",
    "    print(len(lines))  \n",
    "\n",
    "number_of_lines()"
   ]
  },
  {
   "cell_type": "code",
   "execution_count": 11,
   "metadata": {},
   "outputs": [],
   "source": [
    "def number_of_lines():\n",
    "    fhand = open('/cxldata/datasets/project/mbox-short.txt')\n",
    "    inp = fhand.read()\n",
    "    fhand.close()\n",
    "    count = 0\n",
    "    for c in inp:\n",
    "        if c == '\\n':\n",
    "            count += 1\n",
    "    return count"
   ]
  },
  {
   "cell_type": "code",
   "execution_count": 18,
   "metadata": {},
   "outputs": [],
   "source": [
    "def count_number_of_lines():\n",
    "    fhand = open('/cxldata/datasets/project/mbox-short.txt')\n",
    "    count = 0\n",
    "    for line in fhand:\n",
    "        line = line.rstrip() # Remove new line characters from right\n",
    "        if line.startswith('From:'):\n",
    "            print(line)\n",
    "            count += 1\n",
    "    return count\n"
   ]
  },
  {
   "cell_type": "code",
   "execution_count": 19,
   "metadata": {},
   "outputs": [
    {
     "name": "stdout",
     "output_type": "stream",
     "text": [
      "<function count_number_of_lines at 0x7f6e6c5931e0>\n"
     ]
    }
   ],
   "source": [
    "print(count_number_of_lines)"
   ]
  },
  {
   "cell_type": "code",
   "execution_count": 45,
   "metadata": {},
   "outputs": [],
   "source": [
    "def average_spam_confidence():\n",
    "    fhand = open('/cxldata/datasets/project/mbox-short.txt') \n",
    "    total_confidence = 0\n",
    "    count = 0\n",
    "\n",
    "    for line in fhand:\n",
    "        if line.startswith('X-DSPAM-Confidence:'):\n",
    "            confidence_value = float(line.split(':')[1].strip())  \n",
    "            total_confidence += confidence_value\n",
    "            count += 1\n",
    "\n",
    "    if count == 0:  \n",
    "        return \"No spam confidence values found.\"\n",
    "\n",
    "    return total_confidence / count \n",
    "\n"
   ]
  },
  {
   "cell_type": "code",
   "execution_count": 94,
   "metadata": {},
   "outputs": [],
   "source": [
    "def find_email_sent_days():\n",
    "    fhand = open('/cxldata/datasets/project/mbox-short.txt')\n",
    "    trd_word = 0   \n",
    "    third_word_dict = {}  \n",
    "    for line in fhand:\n",
    "        if line.startswith('From '):\n",
    "            x =line.strip()\n",
    "            print(x)\n",
    "            x = line.split()  # Split the line into a list of words\n",
    "            trd_word = x[2]\n",
    "            print(trd_word)\n",
    "            third_word_dict[trd_word] = third_word_dict.get(trd_word, 0) + 1\n",
    "    return third_word_dict"
   ]
  },
  {
   "cell_type": "code",
   "execution_count": 95,
   "metadata": {},
   "outputs": [
    {
     "name": "stdout",
     "output_type": "stream",
     "text": [
      "From stephen.marquard@uct.ac.za Sat Jan  5 09:14:16 2008\n",
      "Sat\n",
      "From louis@media.berkeley.edu Fri Jan  4 18:10:48 2008\n",
      "Fri\n",
      "From zqian@umich.edu Fri Jan  4 16:10:39 2008\n",
      "Fri\n",
      "From rjlowe@iupui.edu Fri Jan  4 15:46:24 2008\n",
      "Fri\n",
      "From zqian@umich.edu Fri Jan  4 15:03:18 2008\n",
      "Fri\n",
      "From rjlowe@iupui.edu Fri Jan  4 14:50:18 2008\n",
      "Fri\n",
      "From cwen@iupui.edu Fri Jan  4 11:37:30 2008\n",
      "Fri\n",
      "From cwen@iupui.edu Fri Jan  4 11:35:08 2008\n",
      "Fri\n",
      "From gsilver@umich.edu Fri Jan  4 11:12:37 2008\n",
      "Fri\n",
      "From gsilver@umich.edu Fri Jan  4 11:11:52 2008\n",
      "Fri\n",
      "From zqian@umich.edu Fri Jan  4 11:11:03 2008\n",
      "Fri\n",
      "From gsilver@umich.edu Fri Jan  4 11:10:22 2008\n",
      "Fri\n",
      "From wagnermr@iupui.edu Fri Jan  4 10:38:42 2008\n",
      "Fri\n",
      "From zqian@umich.edu Fri Jan  4 10:17:43 2008\n",
      "Fri\n",
      "From antranig@caret.cam.ac.uk Fri Jan  4 10:04:14 2008\n",
      "Fri\n",
      "From gopal.ramasammycook@gmail.com Fri Jan  4 09:05:31 2008\n",
      "Fri\n",
      "From david.horwitz@uct.ac.za Fri Jan  4 07:02:32 2008\n",
      "Fri\n",
      "From david.horwitz@uct.ac.za Fri Jan  4 06:08:27 2008\n",
      "Fri\n",
      "From david.horwitz@uct.ac.za Fri Jan  4 04:49:08 2008\n",
      "Fri\n",
      "From david.horwitz@uct.ac.za Fri Jan  4 04:33:44 2008\n",
      "Fri\n",
      "From stephen.marquard@uct.ac.za Fri Jan  4 04:07:34 2008\n",
      "Fri\n",
      "From louis@media.berkeley.edu Thu Jan  3 19:51:21 2008\n",
      "Thu\n",
      "From louis@media.berkeley.edu Thu Jan  3 17:18:23 2008\n",
      "Thu\n",
      "From ray@media.berkeley.edu Thu Jan  3 17:07:00 2008\n",
      "Thu\n",
      "From cwen@iupui.edu Thu Jan  3 16:34:40 2008\n",
      "Thu\n",
      "From cwen@iupui.edu Thu Jan  3 16:29:07 2008\n",
      "Thu\n",
      "From cwen@iupui.edu Thu Jan  3 16:23:48 2008\n",
      "Thu\n"
     ]
    },
    {
     "data": {
      "text/plain": [
       "20"
      ]
     },
     "execution_count": 95,
     "metadata": {},
     "output_type": "execute_result"
    }
   ],
   "source": [
    "find_email_sent_days().get('Fri')"
   ]
  },
  {
   "cell_type": "code",
   "execution_count": 71,
   "metadata": {
    "collapsed": true
   },
   "outputs": [
    {
     "name": "stdout",
     "output_type": "stream",
     "text": [
      "From stephen.marquard@uct.ac.za Sat Jan  5 09:14:16 2008\n",
      "Sat\n",
      "From louis@media.berkeley.edu Fri Jan  4 18:10:48 2008\n",
      "Fri\n",
      "From zqian@umich.edu Fri Jan  4 16:10:39 2008\n",
      "Fri\n",
      "From rjlowe@iupui.edu Fri Jan  4 15:46:24 2008\n",
      "Fri\n",
      "From zqian@umich.edu Fri Jan  4 15:03:18 2008\n",
      "Fri\n",
      "From rjlowe@iupui.edu Fri Jan  4 14:50:18 2008\n",
      "Fri\n",
      "From cwen@iupui.edu Fri Jan  4 11:37:30 2008\n",
      "Fri\n",
      "From cwen@iupui.edu Fri Jan  4 11:35:08 2008\n",
      "Fri\n",
      "From gsilver@umich.edu Fri Jan  4 11:12:37 2008\n",
      "Fri\n",
      "From gsilver@umich.edu Fri Jan  4 11:11:52 2008\n",
      "Fri\n",
      "From zqian@umich.edu Fri Jan  4 11:11:03 2008\n",
      "Fri\n",
      "From gsilver@umich.edu Fri Jan  4 11:10:22 2008\n",
      "Fri\n",
      "From wagnermr@iupui.edu Fri Jan  4 10:38:42 2008\n",
      "Fri\n",
      "From zqian@umich.edu Fri Jan  4 10:17:43 2008\n",
      "Fri\n",
      "From antranig@caret.cam.ac.uk Fri Jan  4 10:04:14 2008\n",
      "Fri\n",
      "From gopal.ramasammycook@gmail.com Fri Jan  4 09:05:31 2008\n",
      "Fri\n",
      "From david.horwitz@uct.ac.za Fri Jan  4 07:02:32 2008\n",
      "Fri\n",
      "From david.horwitz@uct.ac.za Fri Jan  4 06:08:27 2008\n",
      "Fri\n",
      "From david.horwitz@uct.ac.za Fri Jan  4 04:49:08 2008\n",
      "Fri\n",
      "From david.horwitz@uct.ac.za Fri Jan  4 04:33:44 2008\n",
      "Fri\n",
      "From stephen.marquard@uct.ac.za Fri Jan  4 04:07:34 2008\n",
      "Fri\n",
      "From louis@media.berkeley.edu Thu Jan  3 19:51:21 2008\n",
      "Thu\n",
      "From louis@media.berkeley.edu Thu Jan  3 17:18:23 2008\n",
      "Thu\n",
      "From ray@media.berkeley.edu Thu Jan  3 17:07:00 2008\n",
      "Thu\n",
      "From cwen@iupui.edu Thu Jan  3 16:34:40 2008\n",
      "Thu\n",
      "From cwen@iupui.edu Thu Jan  3 16:29:07 2008\n",
      "Thu\n",
      "From cwen@iupui.edu Thu Jan  3 16:23:48 2008\n",
      "Thu\n",
      "{'Sat': 1, 'Fri': 20, 'Thu': 6}\n"
     ]
    }
   ],
   "source": [
    "fhand = open('/cxldata/datasets/project/mbox-short.txt')\n",
    "trd_word = 0   \n",
    "third_word_dict = {}  \n",
    "for line in fhand:\n",
    "    if line.startswith('From '):\n",
    "        x =line.strip()\n",
    "        print(x)\n",
    "        x = line.split()  # Split the line into a list of words\n",
    "        trd_word = x[2]\n",
    "        print(trd_word)\n",
    "        third_word_dict[trd_word] = third_word_dict.get(trd_word, 0) + 1\n",
    "        \n",
    "fhand.close()  \n",
    "\n",
    "print(third_word_dict)"
   ]
  },
  {
   "cell_type": "code",
   "execution_count": 131,
   "metadata": {},
   "outputs": [
    {
     "ename": "TypeError",
     "evalue": "'str' object cannot be interpreted as an integer",
     "output_type": "error",
     "traceback": [
      "\u001b[0;31m---------------------------------------------------------------------------\u001b[0m",
      "\u001b[0;31mTypeError\u001b[0m                                 Traceback (most recent call last)",
      "\u001b[0;32m<ipython-input-131-fe07495118c7>\u001b[0m in \u001b[0;36m<module>\u001b[0;34m\u001b[0m\n\u001b[1;32m      4\u001b[0m \u001b[0;32mfor\u001b[0m \u001b[0mline\u001b[0m \u001b[0;32min\u001b[0m \u001b[0mfhand\u001b[0m\u001b[0;34m:\u001b[0m\u001b[0;34m\u001b[0m\u001b[0;34m\u001b[0m\u001b[0m\n\u001b[1;32m      5\u001b[0m     \u001b[0;32mif\u001b[0m \u001b[0mline\u001b[0m\u001b[0;34m.\u001b[0m\u001b[0mstartswith\u001b[0m\u001b[0;34m(\u001b[0m\u001b[0;34m'From '\u001b[0m\u001b[0;34m)\u001b[0m\u001b[0;34m:\u001b[0m\u001b[0;34m\u001b[0m\u001b[0;34m\u001b[0m\u001b[0m\n\u001b[0;32m----> 6\u001b[0;31m         \u001b[0mx\u001b[0m \u001b[0;34m=\u001b[0m \u001b[0mline\u001b[0m\u001b[0;34m.\u001b[0m\u001b[0msplit\u001b[0m\u001b[0;34m(\u001b[0m\u001b[0;34m'@'\u001b[0m\u001b[0;34m,\u001b[0m\u001b[0;34m' '\u001b[0m\u001b[0;34m)\u001b[0m\u001b[0;34m\u001b[0m\u001b[0;34m\u001b[0m\u001b[0m\n\u001b[0m\u001b[1;32m      7\u001b[0m         \u001b[0mx\u001b[0m \u001b[0;34m=\u001b[0m \u001b[0mline\u001b[0m\u001b[0;34m.\u001b[0m\u001b[0msplit\u001b[0m\u001b[0;34m(\u001b[0m\u001b[0;34m)\u001b[0m\u001b[0;34m\u001b[0m\u001b[0;34m\u001b[0m\u001b[0m\n\u001b[1;32m      8\u001b[0m         \u001b[0memails\u001b[0m \u001b[0;34m=\u001b[0m \u001b[0mx\u001b[0m\u001b[0;34m[\u001b[0m\u001b[0;36m1\u001b[0m\u001b[0;34m]\u001b[0m\u001b[0;34m\u001b[0m\u001b[0;34m\u001b[0m\u001b[0m\n",
      "\u001b[0;31mTypeError\u001b[0m: 'str' object cannot be interpreted as an integer"
     ]
    }
   ],
   "source": [
    "fhand = open('/cxldata/datasets/project/mbox-short.txt')\n",
    "emails = 0\n",
    "emails_dict = {}\n",
    "for line in fhand:\n",
    "    if line.startswith('From '):\n",
    "        x = line.split('@',' ')\n",
    "        x = line.split()\n",
    "        emails = x[1]\n",
    "        emails_dict[emails] = emails_dict.get(emails, 0)+1 \n",
    "fhand.close()\n",
    "\n",
    "print(emails_dict)"
   ]
  },
  {
   "cell_type": "code",
   "execution_count": 155,
   "metadata": {},
   "outputs": [],
   "source": [
    "def count_message_from_email():\n",
    "    fhand = open('/cxldata/datasets/project/mbox-short.txt')\n",
    "    emails = 0\n",
    "    emails_dict = {}\n",
    "    for line in fhand:\n",
    "        if line.startswith('From '):\n",
    "            x = line.split()\n",
    "            emails = x[1]\n",
    "            emails_dict[emails] = emails_dict.get(emails, 0)+1 \n",
    "    fhand.close()\n",
    "\n",
    "    print(emails_dict)\n",
    "    \n",
    "    return emails_dict"
   ]
  },
  {
   "cell_type": "code",
   "execution_count": 121,
   "metadata": {},
   "outputs": [
    {
     "data": {
      "text/plain": [
       "(array([4., 0., 2., 0., 0., 2., 0., 2., 0., 1.]),\n",
       " array([1. , 1.4, 1.8, 2.2, 2.6, 3. , 3.4, 3.8, 4.2, 4.6, 5. ]),\n",
       " <BarContainer object of 10 artists>)"
      ]
     },
     "execution_count": 121,
     "metadata": {},
     "output_type": "execute_result"
    },
    {
     "data": {
      "image/png": "[encoded data removed]",
      "text/plain": [
       "<Figure size 432x288 with 1 Axes>"
      ]
     },
     "metadata": {
      "needs_background": "light"
     },
     "output_type": "display_data"
    }
   ],
   "source": [
    "import matplotlib.pyplot as plt\n",
    "email_counts = list(emails_dict.values())\n",
    "\n",
    "\n",
    "plt.hist(email_counts, bins=10, edgecolor='black', alpha=0.7)"
   ]
  },
  {
   "cell_type": "code",
   "execution_count": 143,
   "metadata": {},
   "outputs": [
    {
     "name": "stdout",
     "output_type": "stream",
     "text": [
      "{'uct.ac.za': 6, 'media.berkeley.edu': 4, 'umich.edu': 7, 'iupui.edu': 8, 'caret.cam.ac.uk': 1, 'gmail.com': 1}\n"
     ]
    }
   ],
   "source": [
    "fhand = open('/cxldata/datasets/project/mbox-short.txt')\n",
    "domain_dict = {}\n",
    "\n",
    "for line in fhand:\n",
    "    if line.startswith('From '):\n",
    "        x = line.split()  # Split by spaces\n",
    "        email = x[1]  # Extract email (2nd word)\n",
    "        domain = email.split('@')[1]\n",
    "        domain_dict[domain] = domain_dict.get(domain, 0)+1 \n",
    "fhand.close()\n",
    "\n",
    "print(domain_dict)"
   ]
  },
  {
   "cell_type": "code",
   "execution_count": 142,
   "metadata": {},
   "outputs": [
    {
     "data": {
      "text/plain": [
       "(array([1., 0., 1., 0., 1., 0., 1., 0., 1., 1.]),\n",
       " array([0. , 0.5, 1. , 1.5, 2. , 2.5, 3. , 3.5, 4. , 4.5, 5. ]),\n",
       " <BarContainer object of 10 artists>)"
      ]
     },
     "execution_count": 142,
     "metadata": {},
     "output_type": "execute_result"
    },
    {
     "data": {
      "image/png": "[encoded data removed]",
      "text/plain": [
       "<Figure size 432x288 with 1 Axes>"
      ]
     },
     "metadata": {
      "needs_background": "light"
     },
     "output_type": "display_data"
    }
   ],
   "source": [
    "email_counts = list(emails_dict.values())\n",
    "\n",
    "plt.hist(domain_dict, bins=10, edgecolor='black', alpha=0.7)"
   ]
  },
  {
   "cell_type": "code",
   "execution_count": 162,
   "metadata": {},
   "outputs": [],
   "source": [
    "def count_message_from_domain():\n",
    "    fhand = open('/cxldata/datasets/project/mbox-short.txt')\n",
    "    domain_dict = {}\n",
    "\n",
    "    for line in fhand:\n",
    "        if line.startswith('From '):\n",
    "            x = line.split()  \n",
    "            email = x[1]  \n",
    "            domain = email.split('@')[1]\n",
    "            domain_dict[domain] = domain_dict.get(domain, 0)+1 \n",
    "    fhand.close()\n",
    "    print(domain_dict)\n",
    "    \n",
    "    return domain_dict"
   ]
  },
  {
   "cell_type": "code",
   "execution_count": null,
   "metadata": {},
   "outputs": [],
   "source": []
  }
 ],
 "metadata": {
  "kernelspec": {
   "display_name": "Python 3",
   "language": "python",
   "name": "python3"
  },
  "language_info": {
   "codemirror_mode": {
    "name": "ipython",
    "version": 3
   },
   "file_extension": ".py",
   "mimetype": "text/x-python",
   "name": "python",
   "nbconvert_exporter": "python",
   "pygments_lexer": "ipython3",
   "version": "3.6.8"
  },
  "toc": {
   "base_numbering": 1,
   "nav_menu": {},
   "number_sections": true,
   "sideBar": true,
   "skip_h1_title": false,
   "title_cell": "Table of Contents",
   "title_sidebar": "Contents",
   "toc_cell": false,
   "toc_position": {},
   "toc_section_display": true,
   "toc_window_display": false
  }
 },
 "nbformat": 4,
 "nbformat_minor": 2
}
