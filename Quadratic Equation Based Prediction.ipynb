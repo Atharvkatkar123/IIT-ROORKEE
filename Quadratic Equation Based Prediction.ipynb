{
 "cells": [
  {
   "cell_type": "markdown",
   "id": "9c8605cf-481d-4a63-a838-df8b9bd30347",
   "metadata": {},
   "source": [
    "IApple + IMango + Parking = 35 \n",
    "\n",
    "3Apples + 2Mangoes + Parking = 75\n",
    "\n",
    "4Apples + 3Mangoes + Parking = 105\n",
    "\n",
    "5Apples + 5Mangoes + Parking =??? CAN WE PREDICT WITH IT "
   ]
  },
  {
   "cell_type": "code",
   "execution_count": 1,
   "id": "c6bc1db5-699a-455c-b754-20e06df8877d",
   "metadata": {},
   "outputs": [],
   "source": [
    "import numpy as np"
   ]
  },
  {
   "cell_type": "code",
   "execution_count": 2,
   "id": "b378c66d-f655-4c5b-be65-00ec562dfca6",
   "metadata": {},
   "outputs": [],
   "source": [
    "A = np.array([[1,1,1],[3,2,1],[4,3,1]])\n",
    "B = np.array([[35],[75],[105]])\n",
    "\n",
    "x = np.linalg.solve(A,B)\n",
    "apple,mango,parking = x"
   ]
  },
  {
   "cell_type": "code",
   "execution_count": 3,
   "id": "ba45aa4d-ccb2-4580-9cc5-f220dba2d07a",
   "metadata": {},
   "outputs": [
    {
     "name": "stdout",
     "output_type": "stream",
     "text": [
      "Apple Price: [10.]\n",
      "Mango Price: [20.]\n",
      "Parking Price: [5.]\n",
      "Predicted value for 5 Apples + 5 Mangoes + Parking: [175.]\n"
     ]
    }
   ],
   "source": [
    "y = 5*apple + 5*mango + 5*parking\n",
    "y\n",
    "\n",
    "print(\"Apple Price:\", apple)\n",
    "print(\"Mango Price:\", mango)\n",
    "print(\"Parking Price:\", parking)\n",
    "print(\"Predicted value for 5 Apples + 5 Mangoes + Parking:\", y)"
   ]
  },
  {
   "cell_type": "code",
   "execution_count": null,
   "id": "80f05286-e516-4914-ad22-008ed7888808",
   "metadata": {},
   "outputs": [],
   "source": []
  },
  {
   "cell_type": "code",
   "execution_count": 4,
   "id": "1dfa392e-58f1-4460-b964-4d785ebc5b00",
   "metadata": {},
   "outputs": [
    {
     "ename": "NameError",
     "evalue": "name 'a' is not defined",
     "output_type": "error",
     "traceback": [
      "\u001b[1;31m---------------------------------------------------------------------------\u001b[0m",
      "\u001b[1;31mNameError\u001b[0m                                 Traceback (most recent call last)",
      "Cell \u001b[1;32mIn[4], line 1\u001b[0m\n\u001b[1;32m----> 1\u001b[0m trafic \u001b[38;5;241m=\u001b[39m \u001b[43ma\u001b[49m\u001b[38;5;241m*\u001b[39m(t\u001b[38;5;241m*\u001b[39m\u001b[38;5;241m*\u001b[39m\u001b[38;5;241m2\u001b[39m) \u001b[38;5;241m+\u001b[39m b\u001b[38;5;241m*\u001b[39mt \u001b[38;5;241m+\u001b[39m c\n",
      "\u001b[1;31mNameError\u001b[0m: name 'a' is not defined"
     ]
    }
   ],
   "source": [
    "trafic = a*(t**2) + b*t + c"
   ]
  },
  {
   "cell_type": "code",
   "execution_count": 5,
   "id": "61de4a52-ddad-4678-9a59-b6adc4d51e38",
   "metadata": {},
   "outputs": [
    {
     "name": "stdin",
     "output_type": "stream",
     "text": [
      "Time 12\n"
     ]
    },
    {
     "data": {
      "text/plain": [
       "182.0"
      ]
     },
     "execution_count": 5,
     "metadata": {},
     "output_type": "execute_result"
    }
   ],
   "source": [
    "t = int(input(\"Time\"))\n",
    "np.array([1.0,3.0,2.0]).dot([t*t,t,1])"
   ]
  },
  {
   "cell_type": "code",
   "execution_count": 6,
   "id": "10203183-8b8a-4894-8cc3-4533071cdfe2",
   "metadata": {},
   "outputs": [
    {
     "name": "stdout",
     "output_type": "stream",
     "text": [
      "[[1. 3. 2.]]\n",
      "[4 5 6 7 8 9]\n",
      "[16 25 36 49 64 81]\n"
     ]
    }
   ],
   "source": [
    "model= np.array([[1.0, 3.0, 2.0]])\n",
    "print(model)\n",
    "t = np.array( [4, 5, 6, 7, 8, 9])\n",
    "print(t)\n",
    "t_sq = t*t\n",
    "print(t_sq)\n",
    "ones = np.ones(len(t))"
   ]
  },
  {
   "cell_type": "code",
   "execution_count": 7,
   "id": "f0b7cb26-5a00-42a1-a34a-a111425aab2d",
   "metadata": {},
   "outputs": [
    {
     "data": {
      "text/plain": [
       "array([[16., 25., 36., 49., 64., 81.],\n",
       "       [ 4.,  5.,  6.,  7.,  8.,  9.],\n",
       "       [ 1.,  1.,  1.,  1.,  1.,  1.]])"
      ]
     },
     "execution_count": 7,
     "metadata": {},
     "output_type": "execute_result"
    }
   ],
   "source": [
    "X = np.stack([t_sq, t, ones])\n",
    "X"
   ]
  },
  {
   "cell_type": "code",
   "execution_count": null,
   "id": "4c0667c3-b7a7-45e3-b568-436458c61d0c",
   "metadata": {},
   "outputs": [],
   "source": []
  }
 ],
 "metadata": {
  "kernelspec": {
   "display_name": "Python 3 (ipykernel)",
   "language": "python",
   "name": "python3"
  },
  "language_info": {
   "codemirror_mode": {
    "name": "ipython",
    "version": 3
   },
   "file_extension": ".py",
   "mimetype": "text/x-python",
   "name": "python",
   "nbconvert_exporter": "python",
   "pygments_lexer": "ipython3",
   "version": "3.9.21"
  }
 },
 "nbformat": 4,
 "nbformat_minor": 5
}
