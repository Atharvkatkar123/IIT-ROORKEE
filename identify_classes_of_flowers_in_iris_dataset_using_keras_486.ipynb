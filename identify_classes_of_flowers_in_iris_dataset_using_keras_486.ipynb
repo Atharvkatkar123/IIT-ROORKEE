{
 "cells": [
  {
   "cell_type": "code",
   "execution_count": 110,
   "metadata": {},
   "outputs": [],
   "source": [
    "import numpy as np\n",
    "import pandas as pd\n",
    "import tensorflow as tf\n",
    "from tensorflow import keras"
   ]
  },
  {
   "cell_type": "code",
   "execution_count": 111,
   "metadata": {},
   "outputs": [],
   "source": [
    "from sklearn.datasets import load_iris"
   ]
  },
  {
   "cell_type": "code",
   "execution_count": 112,
   "metadata": {},
   "outputs": [],
   "source": [
    "from sklearn.model_selection import train_test_split"
   ]
  },
  {
   "cell_type": "code",
   "execution_count": 113,
   "metadata": {},
   "outputs": [],
   "source": [
    "import matplotlib.pyplot as plt"
   ]
  },
  {
   "cell_type": "code",
   "execution_count": 114,
   "metadata": {},
   "outputs": [],
   "source": [
    "iris = load_iris()"
   ]
  },
  {
   "cell_type": "code",
   "execution_count": 115,
   "metadata": {},
   "outputs": [],
   "source": [
    "X = iris.data\n",
    "y = iris.target"
   ]
  },
  {
   "cell_type": "code",
   "execution_count": 116,
   "metadata": {},
   "outputs": [],
   "source": [
    "X_train,X_test,y_train,y_test = train_test_split(X,y,test_size=0.3,random_state=42)"
   ]
  },
  {
   "cell_type": "code",
   "execution_count": 76,
   "metadata": {},
   "outputs": [],
   "source": [
    "keras.backend.clear_session()"
   ]
  },
  {
   "cell_type": "code",
   "execution_count": 77,
   "metadata": {},
   "outputs": [],
   "source": [
    "np.random.seed(42)"
   ]
  },
  {
   "cell_type": "code",
   "execution_count": 78,
   "metadata": {},
   "outputs": [],
   "source": [
    "tf.random.set_seed(42)"
   ]
  },
  {
   "cell_type": "code",
   "execution_count": 307,
   "metadata": {},
   "outputs": [],
   "source": [
    "keras.backend.clear_session()\n",
    "np.random.seed(42)\n",
    "tf.random.set_seed(42)\n",
    "\n",
    "model = keras.models.Sequential([\n",
    "    keras.layers.Dense(300,input_shape=(4,),activation=\"relu\"),\n",
    "    keras.layers.Dropout(0.3),\n",
    "    keras.layers.Dense(100,activation=\"relu\",kernel_initializer=\"he_normal\"),\n",
    "    keras.layers.Dropout(0.2),\n",
    "    keras.layers.Dense(500,activation=\"relu\",kernel_initializer=\"he_normal\"),\n",
    "    keras.layers.Dropout(0.3),\n",
    "    keras.layers.Dense(3,activation=\"softmax\")\n",
    "    \n",
    "])"
   ]
  },
  {
   "cell_type": "code",
   "execution_count": 308,
   "metadata": {},
   "outputs": [
    {
     "name": "stdout",
     "output_type": "stream",
     "text": [
      "Model: \"sequential\"\n",
      "_________________________________________________________________\n",
      "Layer (type)                 Output Shape              Param #   \n",
      "=================================================================\n",
      "dense (Dense)                (None, 300)               1500      \n",
      "_________________________________________________________________\n",
      "dropout (Dropout)            (None, 300)               0         \n",
      "_________________________________________________________________\n",
      "dense_1 (Dense)              (None, 100)               30100     \n",
      "_________________________________________________________________\n",
      "dropout_1 (Dropout)          (None, 100)               0         \n",
      "_________________________________________________________________\n",
      "dense_2 (Dense)              (None, 500)               50500     \n",
      "_________________________________________________________________\n",
      "dropout_2 (Dropout)          (None, 500)               0         \n",
      "_________________________________________________________________\n",
      "dense_3 (Dense)              (None, 3)                 1503      \n",
      "=================================================================\n",
      "Total params: 83,603\n",
      "Trainable params: 83,603\n",
      "Non-trainable params: 0\n",
      "_________________________________________________________________\n"
     ]
    }
   ],
   "source": [
    "model.summary()"
   ]
  },
  {
   "cell_type": "code",
   "execution_count": 319,
   "metadata": {},
   "outputs": [
    {
     "name": "stderr",
     "output_type": "stream",
     "text": [
      "/usr/local/anaconda/envs/tensorflow2/lib/python3.6/site-packages/keras/optimizer_v2/optimizer_v2.py:356: UserWarning: The `lr` argument is deprecated, use `learning_rate` instead.\n",
      "  \"The `lr` argument is deprecated, use `learning_rate` instead.\")\n"
     ]
    }
   ],
   "source": [
    "model.compile(loss=\"sparse_categorical_crossentropy\",\n",
    "              optimizer=keras.optimizers.Adam(lr=0.001),\n",
    "              metrics=[\"accuracy\"])"
   ]
  },
  {
   "cell_type": "code",
   "execution_count": 339,
   "metadata": {},
   "outputs": [
    {
     "name": "stdout",
     "output_type": "stream",
     "text": [
      "Epoch 1/12\n",
      "1/1 [==============================] - 0s 57ms/step - loss: 0.1159 - accuracy: 0.9589 - val_loss: 0.0201 - val_accuracy: 1.0000\n",
      "Epoch 2/12\n",
      "1/1 [==============================] - 0s 28ms/step - loss: 0.1375 - accuracy: 0.9452 - val_loss: 0.0199 - val_accuracy: 1.0000\n",
      "Epoch 3/12\n",
      "1/1 [==============================] - 0s 26ms/step - loss: 0.1354 - accuracy: 0.9589 - val_loss: 0.0215 - val_accuracy: 1.0000\n",
      "Epoch 4/12\n",
      "1/1 [==============================] - 0s 28ms/step - loss: 0.1121 - accuracy: 0.9452 - val_loss: 0.0251 - val_accuracy: 1.0000\n",
      "Epoch 5/12\n",
      "1/1 [==============================] - 0s 26ms/step - loss: 0.1236 - accuracy: 0.9589 - val_loss: 0.0320 - val_accuracy: 1.0000\n",
      "Epoch 6/12\n",
      "1/1 [==============================] - 0s 30ms/step - loss: 0.1224 - accuracy: 0.9726 - val_loss: 0.0378 - val_accuracy: 0.9688\n",
      "Epoch 7/12\n",
      "1/1 [==============================] - 0s 26ms/step - loss: 0.1094 - accuracy: 0.9315 - val_loss: 0.0366 - val_accuracy: 0.9688\n",
      "Epoch 8/12\n",
      "1/1 [==============================] - 0s 26ms/step - loss: 0.0815 - accuracy: 0.9726 - val_loss: 0.0365 - val_accuracy: 0.9688\n",
      "Epoch 9/12\n",
      "1/1 [==============================] - 0s 29ms/step - loss: 0.1028 - accuracy: 0.9589 - val_loss: 0.0335 - val_accuracy: 1.0000\n",
      "Epoch 10/12\n",
      "1/1 [==============================] - 0s 27ms/step - loss: 0.1275 - accuracy: 0.9589 - val_loss: 0.0267 - val_accuracy: 1.0000\n",
      "Epoch 11/12\n",
      "1/1 [==============================] - 0s 26ms/step - loss: 0.1010 - accuracy: 0.9589 - val_loss: 0.0211 - val_accuracy: 1.0000\n",
      "Epoch 12/12\n",
      "1/1 [==============================] - 0s 27ms/step - loss: 0.0851 - accuracy: 0.9726 - val_loss: 0.0190 - val_accuracy: 1.0000\n"
     ]
    },
    {
     "data": {
      "image/png": "[encoded data removed]",
      "text/plain": [
       "<Figure size 576x360 with 1 Axes>"
      ]
     },
     "metadata": {
      "needs_background": "light"
     },
     "output_type": "display_data"
    },
    {
     "name": "stdout",
     "output_type": "stream",
     "text": [
      "2/2 [==============================] - 0s 3ms/step - loss: 0.0374 - accuracy: 0.9778\n",
      "Final test set loss: 0.037359\n",
      "Final test set accuracy: 0.977778\n"
     ]
    }
   ],
   "source": [
    "history = model.fit(X_train,y_train,batch_size=350,epochs=12,validation_split=0.3)\n",
    "\n",
    "pd.DataFrame(history.history).plot(figsize=(8, 5))\n",
    "plt.grid(True)\n",
    "plt.gca().set_ylim(0, 1)\n",
    "plt.show()\n",
    "\n",
    "results = model.evaluate(X_test,y_test)\n",
    "print('Final test set loss: {:4f}'.format(results[0]))\n",
    "print('Final test set accuracy: {:4f}'.format(results[1]))"
   ]
  },
  {
   "cell_type": "code",
   "execution_count": 326,
   "metadata": {},
   "outputs": [
    {
     "data": {
      "image/png": "[encoded data removed]",
      "text/plain": [
       "<Figure size 576x360 with 1 Axes>"
      ]
     },
     "metadata": {
      "needs_background": "light"
     },
     "output_type": "display_data"
    }
   ],
   "source": [
    "pd.DataFrame(history.history).plot(figsize=(8, 5))\n",
    "plt.grid(True)\n",
    "plt.gca().set_ylim(0, 1)\n",
    "plt.show()"
   ]
  },
  {
   "cell_type": "code",
   "execution_count": 322,
   "metadata": {},
   "outputs": [
    {
     "name": "stdout",
     "output_type": "stream",
     "text": [
      "2/2 [==============================] - 0s 4ms/step - loss: 0.2293 - accuracy: 0.9778\n",
      "Final test set loss: 0.229301\n",
      "Final test set accuracy: 0.977778\n"
     ]
    }
   ],
   "source": [
    "results = model.evaluate(X_test,y_test)\n",
    "print('Final test set loss: {:4f}'.format(results[0]))\n",
    "print('Final test set accuracy: {:4f}'.format(results[1]))"
   ]
  },
  {
   "cell_type": "code",
   "execution_count": 306,
   "metadata": {},
   "outputs": [
    {
     "name": "stdout",
     "output_type": "stream",
     "text": [
      "Final test set loss: 0.093194\n",
      "Final test set accuracy: 0.977778\n"
     ]
    }
   ],
   "source": [
    "print('Final test set loss: {:4f}'.format(results[0]))\n",
    "print('Final test set accuracy: {:4f}'.format(results[1]))"
   ]
  },
  {
   "cell_type": "code",
   "execution_count": 344,
   "metadata": {},
   "outputs": [],
   "source": [
    "class_names = iris.target_names"
   ]
  },
  {
   "cell_type": "code",
   "execution_count": 346,
   "metadata": {},
   "outputs": [],
   "source": [
    "X_new = X_test[:5]"
   ]
  },
  {
   "cell_type": "code",
   "execution_count": 353,
   "metadata": {},
   "outputs": [
    {
     "name": "stdout",
     "output_type": "stream",
     "text": [
      "[['setosa' 'versicolor' 'setosa']\n",
      " ['versicolor' 'setosa' 'setosa']\n",
      " ['setosa' 'setosa' 'versicolor']\n",
      " ['setosa' 'versicolor' 'setosa']\n",
      " ['setosa' 'versicolor' 'setosa']]\n"
     ]
    }
   ],
   "source": [
    "y_pred = model.predict(X_new)\n",
    "y_pred = np.round(y_pred).astype(int)\n",
    "print(np.array(class_names)[y_pred])"
   ]
  },
  {
   "cell_type": "code",
   "execution_count": 355,
   "metadata": {},
   "outputs": [
    {
     "name": "stdout",
     "output_type": "stream",
     "text": [
      "['versicolor' 'setosa' 'virginica' 'versicolor' 'versicolor']\n"
     ]
    }
   ],
   "source": [
    "y_new = y_test[:5]\n",
    "print(np.array(class_names)[y_new])"
   ]
  },
  {
   "cell_type": "code",
   "execution_count": null,
   "metadata": {},
   "outputs": [],
   "source": []
  }
 ],
 "metadata": {
  "kernelspec": {
   "display_name": "tensorflow2",
   "language": "python",
   "name": "tensorflow2"
  },
  "language_info": {
   "codemirror_mode": {
    "name": "ipython",
    "version": 3
   },
   "file_extension": ".py",
   "mimetype": "text/x-python",
   "name": "python",
   "nbconvert_exporter": "python",
   "pygments_lexer": "ipython3",
   "version": "3.6.8"
  },
  "toc": {
   "base_numbering": 1,
   "nav_menu": {},
   "number_sections": true,
   "sideBar": true,
   "skip_h1_title": false,
   "title_cell": "Table of Contents",
   "title_sidebar": "Contents",
   "toc_cell": false,
   "toc_position": {},
   "toc_section_display": true,
   "toc_window_display": false
  }
 },
 "nbformat": 4,
 "nbformat_minor": 2
}
