{
 "cells": [
  {
   "cell_type": "code",
   "execution_count": 1,
   "metadata": {},
   "outputs": [],
   "source": [
    "import tensorflow as tf"
   ]
  },
  {
   "cell_type": "code",
   "execution_count": 2,
   "metadata": {},
   "outputs": [],
   "source": [
    "from tensorflow import keras"
   ]
  },
  {
   "cell_type": "code",
   "execution_count": 3,
   "metadata": {},
   "outputs": [],
   "source": [
    "fashion_mnist = keras.datasets.fashion_mnist"
   ]
  },
  {
   "cell_type": "code",
   "execution_count": 4,
   "metadata": {},
   "outputs": [],
   "source": [
    "(X_train_full,y_train_full),(X_test,y_test) = fashion_mnist.load_data()"
   ]
  },
  {
   "cell_type": "code",
   "execution_count": 5,
   "metadata": {},
   "outputs": [],
   "source": [
    "X_valid,X_train = X_train_full[:5000]/255.0,X_train_full[5000:]/255.0"
   ]
  },
  {
   "cell_type": "code",
   "execution_count": 6,
   "metadata": {},
   "outputs": [],
   "source": [
    "y_valid,y_train = y_train_full[:5000],y_train_full[5000:]"
   ]
  },
  {
   "cell_type": "code",
   "execution_count": 7,
   "metadata": {},
   "outputs": [
    {
     "data": {
      "text/plain": [
       "<function list.count>"
      ]
     },
     "execution_count": 7,
     "metadata": {},
     "output_type": "execute_result"
    }
   ],
   "source": [
    "class_names = [\"T-shirt/ top\",\"Trouser\",\"Pullover\",\"Dress\",\"Coat\",\"Sandal\", \"Shirt\",\"Sneaker\", \"Bag\", \"Ankle boot\"]\n",
    "class_names.count"
   ]
  },
  {
   "cell_type": "code",
   "execution_count": 8,
   "metadata": {},
   "outputs": [],
   "source": [
    "model = keras.models.Sequential()\n",
    "model.add(keras.layers.Flatten(input_shape=[28,28]))\n",
    "model.add(keras.layers.Dense(300,activation=\"relu\"))\n",
    "model.add(keras.layers.Dense(100,activation=\"relu\"))\n",
    "model.add(keras.layers.Dense(10,activation=\"softmax\"))"
   ]
  },
  {
   "cell_type": "code",
   "execution_count": 9,
   "metadata": {},
   "outputs": [],
   "source": [
    "model.compile(loss=\"sparse_categorical_crossentropy\",optimizer=\"sgd\",metrics=[\"accuracy\"])"
   ]
  },
  {
   "cell_type": "code",
   "execution_count": 10,
   "metadata": {},
   "outputs": [
    {
     "name": "stdout",
     "output_type": "stream",
     "text": [
      "Epoch 1/30\n",
      "1719/1719 [==============================] - 5s 3ms/step - loss: 0.7412 - accuracy: 0.7577 - val_loss: 0.5372 - val_accuracy: 0.8120\n",
      "Epoch 2/30\n",
      "1719/1719 [==============================] - 5s 3ms/step - loss: 0.4905 - accuracy: 0.8285 - val_loss: 0.4652 - val_accuracy: 0.8394\n",
      "Epoch 3/30\n",
      "1719/1719 [==============================] - 10s 6ms/step - loss: 0.4450 - accuracy: 0.8450 - val_loss: 0.4104 - val_accuracy: 0.8638\n",
      "Epoch 4/30\n",
      "1719/1719 [==============================] - 4s 2ms/step - loss: 0.4172 - accuracy: 0.8548 - val_loss: 0.4689 - val_accuracy: 0.8338\n",
      "Epoch 5/30\n",
      "1719/1719 [==============================] - 4s 2ms/step - loss: 0.3957 - accuracy: 0.8615 - val_loss: 0.3965 - val_accuracy: 0.8594\n",
      "Epoch 6/30\n",
      "1719/1719 [==============================] - 4s 2ms/step - loss: 0.3806 - accuracy: 0.8661 - val_loss: 0.3872 - val_accuracy: 0.8602\n",
      "Epoch 7/30\n",
      "1719/1719 [==============================] - 4s 2ms/step - loss: 0.3660 - accuracy: 0.8708 - val_loss: 0.3581 - val_accuracy: 0.8752\n",
      "Epoch 8/30\n",
      "1719/1719 [==============================] - 4s 2ms/step - loss: 0.3539 - accuracy: 0.8749 - val_loss: 0.3509 - val_accuracy: 0.8744\n",
      "Epoch 9/30\n",
      "1719/1719 [==============================] - 5s 3ms/step - loss: 0.3431 - accuracy: 0.8777 - val_loss: 0.3536 - val_accuracy: 0.8720\n",
      "Epoch 10/30\n",
      "1719/1719 [==============================] - 4s 2ms/step - loss: 0.3339 - accuracy: 0.8815 - val_loss: 0.3522 - val_accuracy: 0.8738\n",
      "Epoch 11/30\n",
      "1719/1719 [==============================] - 4s 2ms/step - loss: 0.3258 - accuracy: 0.8838 - val_loss: 0.3881 - val_accuracy: 0.8628\n",
      "Epoch 12/30\n",
      "1719/1719 [==============================] - 5s 3ms/step - loss: 0.3179 - accuracy: 0.8865 - val_loss: 0.3335 - val_accuracy: 0.8790\n",
      "Epoch 13/30\n",
      "1719/1719 [==============================] - 4s 2ms/step - loss: 0.3114 - accuracy: 0.8887 - val_loss: 0.3235 - val_accuracy: 0.8800\n",
      "Epoch 14/30\n",
      "1719/1719 [==============================] - 4s 3ms/step - loss: 0.3045 - accuracy: 0.8901 - val_loss: 0.3265 - val_accuracy: 0.8836\n",
      "Epoch 15/30\n",
      "1719/1719 [==============================] - 6s 3ms/step - loss: 0.2974 - accuracy: 0.8938 - val_loss: 0.3209 - val_accuracy: 0.8868\n",
      "Epoch 16/30\n",
      "1719/1719 [==============================] - 4s 3ms/step - loss: 0.2914 - accuracy: 0.8954 - val_loss: 0.3145 - val_accuracy: 0.8890\n",
      "Epoch 17/30\n",
      "1719/1719 [==============================] - 4s 2ms/step - loss: 0.2858 - accuracy: 0.8979 - val_loss: 0.3281 - val_accuracy: 0.8838\n",
      "Epoch 18/30\n",
      "1719/1719 [==============================] - 4s 2ms/step - loss: 0.2809 - accuracy: 0.8986 - val_loss: 0.3169 - val_accuracy: 0.8878\n",
      "Epoch 19/30\n",
      "1719/1719 [==============================] - 4s 2ms/step - loss: 0.2750 - accuracy: 0.9014 - val_loss: 0.3254 - val_accuracy: 0.8820\n",
      "Epoch 20/30\n",
      "1719/1719 [==============================] - 4s 2ms/step - loss: 0.2697 - accuracy: 0.9035 - val_loss: 0.3173 - val_accuracy: 0.8852\n",
      "Epoch 21/30\n",
      "1719/1719 [==============================] - 4s 2ms/step - loss: 0.2658 - accuracy: 0.9041 - val_loss: 0.3142 - val_accuracy: 0.8844\n",
      "Epoch 22/30\n",
      "1719/1719 [==============================] - 4s 2ms/step - loss: 0.2595 - accuracy: 0.9055 - val_loss: 0.3098 - val_accuracy: 0.8886\n",
      "Epoch 23/30\n",
      "1719/1719 [==============================] - 4s 3ms/step - loss: 0.2558 - accuracy: 0.9079 - val_loss: 0.3170 - val_accuracy: 0.8858\n",
      "Epoch 24/30\n",
      "1719/1719 [==============================] - 5s 3ms/step - loss: 0.2506 - accuracy: 0.9097 - val_loss: 0.3031 - val_accuracy: 0.8906\n",
      "Epoch 25/30\n",
      "1719/1719 [==============================] - 4s 3ms/step - loss: 0.2470 - accuracy: 0.9116 - val_loss: 0.3019 - val_accuracy: 0.8942\n",
      "Epoch 26/30\n",
      "1719/1719 [==============================] - 5s 3ms/step - loss: 0.2438 - accuracy: 0.9127 - val_loss: 0.3080 - val_accuracy: 0.8888\n",
      "Epoch 27/30\n",
      "1719/1719 [==============================] - 4s 2ms/step - loss: 0.2401 - accuracy: 0.9128 - val_loss: 0.2951 - val_accuracy: 0.8948\n",
      "Epoch 28/30\n",
      "1719/1719 [==============================] - 4s 3ms/step - loss: 0.2346 - accuracy: 0.9165 - val_loss: 0.2979 - val_accuracy: 0.8892\n",
      "Epoch 29/30\n",
      "1719/1719 [==============================] - 5s 3ms/step - loss: 0.2330 - accuracy: 0.9163 - val_loss: 0.3068 - val_accuracy: 0.8890\n",
      "Epoch 30/30\n",
      "1719/1719 [==============================] - 4s 2ms/step - loss: 0.2278 - accuracy: 0.9186 - val_loss: 0.3075 - val_accuracy: 0.8868\n",
      "313/313 [==============================] - 1s 2ms/step - loss: 77.0448 - accuracy: 0.8318\n"
     ]
    },
    {
     "data": {
      "text/plain": [
       "[77.04483795166016, 0.8317999839782715]"
      ]
     },
     "execution_count": 10,
     "metadata": {},
     "output_type": "execute_result"
    }
   ],
   "source": [
    "history = model.fit(X_train,y_train,epochs=30,validation_data=(X_valid,y_valid))\n",
    "model.evaluate(X_test,y_test)"
   ]
  },
  {
   "cell_type": "code",
   "execution_count": 12,
   "metadata": {},
   "outputs": [
    {
     "ename": "AttributeError",
     "evalue": "'Sequential' object has no attribute 'summery'",
     "output_type": "error",
     "traceback": [
      "\u001b[0;31m---------------------------------------------------------------------------\u001b[0m",
      "\u001b[0;31mAttributeError\u001b[0m                            Traceback (most recent call last)",
      "\u001b[0;32m<ipython-input-12-9f3c389aecf6>\u001b[0m in \u001b[0;36m<module>\u001b[0;34m\u001b[0m\n\u001b[0;32m----> 1\u001b[0;31m \u001b[0mmodel\u001b[0m\u001b[0;34m.\u001b[0m\u001b[0msummery\u001b[0m\u001b[0;34m(\u001b[0m\u001b[0;34m)\u001b[0m\u001b[0;34m\u001b[0m\u001b[0;34m\u001b[0m\u001b[0m\n\u001b[0m",
      "\u001b[0;31mAttributeError\u001b[0m: 'Sequential' object has no attribute 'summery'"
     ]
    }
   ],
   "source": [
    "model.summery()"
   ]
  },
  {
   "cell_type": "code",
   "execution_count": 26,
   "metadata": {},
   "outputs": [],
   "source": [
    "\n",
    "from sklearn.preprocessing import StandardScaler\n",
    "from sklearn.model_selection import train_test_split\n",
    "from sklearn.datasets import fetch_california_housing\n",
    "housing = fetch_california_housing()\n",
    "X_train_full, X_test, y_train_full, y_test = train_test_split(housing.data,housing.target)"
   ]
  },
  {
   "cell_type": "code",
   "execution_count": 27,
   "metadata": {},
   "outputs": [],
   "source": [
    "X_train,X_valid,y_train,y_valid = train_test_split(X_train_full,y_train_full)\n",
    "\n",
    "scaler = StandardScaler()\n",
    "\n",
    "X_train = scaler.fit_transform(X_train)\n",
    "\n",
    "X_valid = scaler.transform(X_valid)\n",
    "X_test = scaler.transform(X_test)"
   ]
  },
  {
   "cell_type": "code",
   "execution_count": null,
   "metadata": {},
   "outputs": [],
   "source": [
    "model = keras.models.Sequential([\n",
    "    keras.layers.Dense(30,activation=\"relu\",input_shape=X_train.shape[1:]),\n",
    "    keras.layers.Dense(1)\n",
    "])"
   ]
  },
  {
   "cell_type": "code",
   "execution_count": null,
   "metadata": {},
   "outputs": [],
   "source": [
    "model.compile(loss=\"mean_squared_error\",optimizer=\"sgd\")"
   ]
  },
  {
   "cell_type": "code",
   "execution_count": null,
   "metadata": {},
   "outputs": [],
   "source": [
    "history = model.fit(X_train,y_train, epochs=20, validation_data=(X_valid,y_valid))\n",
    "mse_test = model.evaluate(X_test,y_test)"
   ]
  },
  {
   "cell_type": "code",
   "execution_count": 16,
   "metadata": {
    "collapsed": true
   },
   "outputs": [
    {
     "ename": "ValueError",
     "evalue": "in user code:\n\n    /usr/local/anaconda/envs/tensorflow2/lib/python3.6/site-packages/keras/engine/training.py:1330 test_function  *\n        return step_function(self, iterator)\n    /usr/local/anaconda/envs/tensorflow2/lib/python3.6/site-packages/keras/engine/training.py:1320 step_function  **\n        outputs = model.distribute_strategy.run(run_step, args=(data,))\n    /usr/local/anaconda/envs/tensorflow2/lib/python3.6/site-packages/tensorflow/python/distribute/distribute_lib.py:1286 run\n        return self._extended.call_for_each_replica(fn, args=args, kwargs=kwargs)\n    /usr/local/anaconda/envs/tensorflow2/lib/python3.6/site-packages/tensorflow/python/distribute/distribute_lib.py:2849 call_for_each_replica\n        return self._call_for_each_replica(fn, args, kwargs)\n    /usr/local/anaconda/envs/tensorflow2/lib/python3.6/site-packages/tensorflow/python/distribute/distribute_lib.py:3632 _call_for_each_replica\n        return fn(*args, **kwargs)\n    /usr/local/anaconda/envs/tensorflow2/lib/python3.6/site-packages/keras/engine/training.py:1313 run_step  **\n        outputs = model.test_step(data)\n    /usr/local/anaconda/envs/tensorflow2/lib/python3.6/site-packages/keras/engine/training.py:1271 test_step\n        self.compiled_metrics.update_state(y, y_pred, sample_weight)\n    /usr/local/anaconda/envs/tensorflow2/lib/python3.6/site-packages/keras/engine/compile_utils.py:457 update_state\n        metric_obj.update_state(y_t, y_p, sample_weight=mask)\n    /usr/local/anaconda/envs/tensorflow2/lib/python3.6/site-packages/keras/utils/metrics_utils.py:73 decorated\n        update_op = update_state_fn(*args, **kwargs)\n    /usr/local/anaconda/envs/tensorflow2/lib/python3.6/site-packages/keras/metrics.py:177 update_state_fn\n        return ag_update_state(*args, **kwargs)\n    /usr/local/anaconda/envs/tensorflow2/lib/python3.6/site-packages/keras/metrics.py:681 update_state  **\n        matches = ag_fn(y_true, y_pred, **self._fn_kwargs)\n    /usr/local/anaconda/envs/tensorflow2/lib/python3.6/site-packages/tensorflow/python/util/dispatch.py:206 wrapper\n        return target(*args, **kwargs)\n    /usr/local/anaconda/envs/tensorflow2/lib/python3.6/site-packages/keras/metrics.py:3529 sparse_categorical_accuracy\n        y_true = tf.squeeze(y_true, [-1])\n    /usr/local/anaconda/envs/tensorflow2/lib/python3.6/site-packages/tensorflow/python/util/dispatch.py:206 wrapper\n        return target(*args, **kwargs)\n    /usr/local/anaconda/envs/tensorflow2/lib/python3.6/site-packages/tensorflow/python/ops/array_ops.py:4537 squeeze_v2\n        return squeeze(input, axis, name)\n    /usr/local/anaconda/envs/tensorflow2/lib/python3.6/site-packages/tensorflow/python/util/dispatch.py:206 wrapper\n        return target(*args, **kwargs)\n    /usr/local/anaconda/envs/tensorflow2/lib/python3.6/site-packages/tensorflow/python/util/deprecation.py:549 new_func\n        return func(*args, **kwargs)\n    /usr/local/anaconda/envs/tensorflow2/lib/python3.6/site-packages/tensorflow/python/ops/array_ops.py:4485 squeeze\n        return gen_array_ops.squeeze(input, axis, name)\n    /usr/local/anaconda/envs/tensorflow2/lib/python3.6/site-packages/tensorflow/python/ops/gen_array_ops.py:10199 squeeze\n        \"Squeeze\", input=input, squeeze_dims=axis, name=name)\n    /usr/local/anaconda/envs/tensorflow2/lib/python3.6/site-packages/tensorflow/python/framework/op_def_library.py:750 _apply_op_helper\n        attrs=attr_protos, op_def=op_def)\n    /usr/local/anaconda/envs/tensorflow2/lib/python3.6/site-packages/tensorflow/python/framework/func_graph.py:601 _create_op_internal\n        compute_device)\n    /usr/local/anaconda/envs/tensorflow2/lib/python3.6/site-packages/tensorflow/python/framework/ops.py:3569 _create_op_internal\n        op_def=op_def)\n    /usr/local/anaconda/envs/tensorflow2/lib/python3.6/site-packages/tensorflow/python/framework/ops.py:2042 __init__\n        control_input_ops, op_def)\n    /usr/local/anaconda/envs/tensorflow2/lib/python3.6/site-packages/tensorflow/python/framework/ops.py:1883 _create_c_op\n        raise ValueError(str(e))\n\n    ValueError: Can not squeeze dim[1], expected a dimension of 1, got 10 for '{{node Squeeze}} = Squeeze[T=DT_FLOAT, squeeze_dims=[-1]](IteratorGetNext:1)' with input shapes: [?,10].\n",
     "output_type": "error",
     "traceback": [
      "\u001b[0;31m---------------------------------------------------------------------------\u001b[0m",
      "\u001b[0;31mValueError\u001b[0m                                Traceback (most recent call last)",
      "\u001b[0;32m<ipython-input-16-95b0dd1365e7>\u001b[0m in \u001b[0;36m<module>\u001b[0;34m\u001b[0m\n\u001b[1;32m      2\u001b[0m \u001b[0;34m\u001b[0m\u001b[0m\n\u001b[1;32m      3\u001b[0m \u001b[0my_pred\u001b[0m \u001b[0;34m=\u001b[0m \u001b[0mmodel\u001b[0m\u001b[0;34m.\u001b[0m\u001b[0mpredict\u001b[0m\u001b[0;34m(\u001b[0m\u001b[0mX_new\u001b[0m\u001b[0;34m)\u001b[0m\u001b[0;34m\u001b[0m\u001b[0;34m\u001b[0m\u001b[0m\n\u001b[0;32m----> 4\u001b[0;31m \u001b[0mmse_test\u001b[0m \u001b[0;34m=\u001b[0m \u001b[0mmodel\u001b[0m\u001b[0;34m.\u001b[0m\u001b[0mevaluate\u001b[0m\u001b[0;34m(\u001b[0m\u001b[0mX_new\u001b[0m\u001b[0;34m,\u001b[0m\u001b[0my_pred\u001b[0m\u001b[0;34m)\u001b[0m\u001b[0;34m\u001b[0m\u001b[0;34m\u001b[0m\u001b[0m\n\u001b[0m",
      "\u001b[0;32m/usr/local/anaconda/envs/tensorflow2/lib/python3.6/site-packages/keras/engine/training.py\u001b[0m in \u001b[0;36mevaluate\u001b[0;34m(self, x, y, batch_size, verbose, sample_weight, steps, callbacks, max_queue_size, workers, use_multiprocessing, return_dict, **kwargs)\u001b[0m\n\u001b[1;32m   1499\u001b[0m             \u001b[0;32mwith\u001b[0m \u001b[0mtf\u001b[0m\u001b[0;34m.\u001b[0m\u001b[0mprofiler\u001b[0m\u001b[0;34m.\u001b[0m\u001b[0mexperimental\u001b[0m\u001b[0;34m.\u001b[0m\u001b[0mTrace\u001b[0m\u001b[0;34m(\u001b[0m\u001b[0;34m'test'\u001b[0m\u001b[0;34m,\u001b[0m \u001b[0mstep_num\u001b[0m\u001b[0;34m=\u001b[0m\u001b[0mstep\u001b[0m\u001b[0;34m,\u001b[0m \u001b[0m_r\u001b[0m\u001b[0;34m=\u001b[0m\u001b[0;36m1\u001b[0m\u001b[0;34m)\u001b[0m\u001b[0;34m:\u001b[0m\u001b[0;34m\u001b[0m\u001b[0;34m\u001b[0m\u001b[0m\n\u001b[1;32m   1500\u001b[0m               \u001b[0mcallbacks\u001b[0m\u001b[0;34m.\u001b[0m\u001b[0mon_test_batch_begin\u001b[0m\u001b[0;34m(\u001b[0m\u001b[0mstep\u001b[0m\u001b[0;34m)\u001b[0m\u001b[0;34m\u001b[0m\u001b[0;34m\u001b[0m\u001b[0m\n\u001b[0;32m-> 1501\u001b[0;31m               \u001b[0mtmp_logs\u001b[0m \u001b[0;34m=\u001b[0m \u001b[0mself\u001b[0m\u001b[0;34m.\u001b[0m\u001b[0mtest_function\u001b[0m\u001b[0;34m(\u001b[0m\u001b[0miterator\u001b[0m\u001b[0;34m)\u001b[0m\u001b[0;34m\u001b[0m\u001b[0;34m\u001b[0m\u001b[0m\n\u001b[0m\u001b[1;32m   1502\u001b[0m               \u001b[0;32mif\u001b[0m \u001b[0mdata_handler\u001b[0m\u001b[0;34m.\u001b[0m\u001b[0mshould_sync\u001b[0m\u001b[0;34m:\u001b[0m\u001b[0;34m\u001b[0m\u001b[0;34m\u001b[0m\u001b[0m\n\u001b[1;32m   1503\u001b[0m                 \u001b[0mcontext\u001b[0m\u001b[0;34m.\u001b[0m\u001b[0masync_wait\u001b[0m\u001b[0;34m(\u001b[0m\u001b[0;34m)\u001b[0m\u001b[0;34m\u001b[0m\u001b[0;34m\u001b[0m\u001b[0m\n",
      "\u001b[0;32m/usr/local/anaconda/envs/tensorflow2/lib/python3.6/site-packages/tensorflow/python/eager/def_function.py\u001b[0m in \u001b[0;36m__call__\u001b[0;34m(self, *args, **kwds)\u001b[0m\n\u001b[1;32m    883\u001b[0m \u001b[0;34m\u001b[0m\u001b[0m\n\u001b[1;32m    884\u001b[0m       \u001b[0;32mwith\u001b[0m \u001b[0mOptionalXlaContext\u001b[0m\u001b[0;34m(\u001b[0m\u001b[0mself\u001b[0m\u001b[0;34m.\u001b[0m\u001b[0m_jit_compile\u001b[0m\u001b[0;34m)\u001b[0m\u001b[0;34m:\u001b[0m\u001b[0;34m\u001b[0m\u001b[0;34m\u001b[0m\u001b[0m\n\u001b[0;32m--> 885\u001b[0;31m         \u001b[0mresult\u001b[0m \u001b[0;34m=\u001b[0m \u001b[0mself\u001b[0m\u001b[0;34m.\u001b[0m\u001b[0m_call\u001b[0m\u001b[0;34m(\u001b[0m\u001b[0;34m*\u001b[0m\u001b[0margs\u001b[0m\u001b[0;34m,\u001b[0m \u001b[0;34m**\u001b[0m\u001b[0mkwds\u001b[0m\u001b[0;34m)\u001b[0m\u001b[0;34m\u001b[0m\u001b[0;34m\u001b[0m\u001b[0m\n\u001b[0m\u001b[1;32m    886\u001b[0m \u001b[0;34m\u001b[0m\u001b[0m\n\u001b[1;32m    887\u001b[0m       \u001b[0mnew_tracing_count\u001b[0m \u001b[0;34m=\u001b[0m \u001b[0mself\u001b[0m\u001b[0;34m.\u001b[0m\u001b[0mexperimental_get_tracing_count\u001b[0m\u001b[0;34m(\u001b[0m\u001b[0;34m)\u001b[0m\u001b[0;34m\u001b[0m\u001b[0;34m\u001b[0m\u001b[0m\n",
      "\u001b[0;32m/usr/local/anaconda/envs/tensorflow2/lib/python3.6/site-packages/tensorflow/python/eager/def_function.py\u001b[0m in \u001b[0;36m_call\u001b[0;34m(self, *args, **kwds)\u001b[0m\n\u001b[1;32m    922\u001b[0m       \u001b[0;31m# In this case we have not created variables on the first call. So we can\u001b[0m\u001b[0;34m\u001b[0m\u001b[0;34m\u001b[0m\u001b[0;34m\u001b[0m\u001b[0m\n\u001b[1;32m    923\u001b[0m       \u001b[0;31m# run the first trace but we should fail if variables are created.\u001b[0m\u001b[0;34m\u001b[0m\u001b[0;34m\u001b[0m\u001b[0;34m\u001b[0m\u001b[0m\n\u001b[0;32m--> 924\u001b[0;31m       \u001b[0mresults\u001b[0m \u001b[0;34m=\u001b[0m \u001b[0mself\u001b[0m\u001b[0;34m.\u001b[0m\u001b[0m_stateful_fn\u001b[0m\u001b[0;34m(\u001b[0m\u001b[0;34m*\u001b[0m\u001b[0margs\u001b[0m\u001b[0;34m,\u001b[0m \u001b[0;34m**\u001b[0m\u001b[0mkwds\u001b[0m\u001b[0;34m)\u001b[0m\u001b[0;34m\u001b[0m\u001b[0;34m\u001b[0m\u001b[0m\n\u001b[0m\u001b[1;32m    925\u001b[0m       \u001b[0;32mif\u001b[0m \u001b[0mself\u001b[0m\u001b[0;34m.\u001b[0m\u001b[0m_created_variables\u001b[0m \u001b[0;32mand\u001b[0m \u001b[0;32mnot\u001b[0m \u001b[0mALLOW_DYNAMIC_VARIABLE_CREATION\u001b[0m\u001b[0;34m:\u001b[0m\u001b[0;34m\u001b[0m\u001b[0;34m\u001b[0m\u001b[0m\n\u001b[1;32m    926\u001b[0m         raise ValueError(\"Creating variables on a non-first call to a function\"\n",
      "\u001b[0;32m/usr/local/anaconda/envs/tensorflow2/lib/python3.6/site-packages/tensorflow/python/eager/function.py\u001b[0m in \u001b[0;36m__call__\u001b[0;34m(self, *args, **kwargs)\u001b[0m\n\u001b[1;32m   3036\u001b[0m     \u001b[0;32mwith\u001b[0m \u001b[0mself\u001b[0m\u001b[0;34m.\u001b[0m\u001b[0m_lock\u001b[0m\u001b[0;34m:\u001b[0m\u001b[0;34m\u001b[0m\u001b[0;34m\u001b[0m\u001b[0m\n\u001b[1;32m   3037\u001b[0m       (graph_function,\n\u001b[0;32m-> 3038\u001b[0;31m        filtered_flat_args) = self._maybe_define_function(args, kwargs)\n\u001b[0m\u001b[1;32m   3039\u001b[0m     return graph_function._call_flat(\n\u001b[1;32m   3040\u001b[0m         filtered_flat_args, captured_inputs=graph_function.captured_inputs)  # pylint: disable=protected-access\n",
      "\u001b[0;32m/usr/local/anaconda/envs/tensorflow2/lib/python3.6/site-packages/tensorflow/python/eager/function.py\u001b[0m in \u001b[0;36m_maybe_define_function\u001b[0;34m(self, args, kwargs)\u001b[0m\n\u001b[1;32m   3458\u001b[0m               call_context_key in self._function_cache.missed):\n\u001b[1;32m   3459\u001b[0m             return self._define_function_with_shape_relaxation(\n\u001b[0;32m-> 3460\u001b[0;31m                 args, kwargs, flat_args, filtered_flat_args, cache_key_context)\n\u001b[0m\u001b[1;32m   3461\u001b[0m \u001b[0;34m\u001b[0m\u001b[0m\n\u001b[1;32m   3462\u001b[0m           \u001b[0mself\u001b[0m\u001b[0;34m.\u001b[0m\u001b[0m_function_cache\u001b[0m\u001b[0;34m.\u001b[0m\u001b[0mmissed\u001b[0m\u001b[0;34m.\u001b[0m\u001b[0madd\u001b[0m\u001b[0;34m(\u001b[0m\u001b[0mcall_context_key\u001b[0m\u001b[0;34m)\u001b[0m\u001b[0;34m\u001b[0m\u001b[0;34m\u001b[0m\u001b[0m\n",
      "\u001b[0;32m/usr/local/anaconda/envs/tensorflow2/lib/python3.6/site-packages/tensorflow/python/eager/function.py\u001b[0m in \u001b[0;36m_define_function_with_shape_relaxation\u001b[0;34m(self, args, kwargs, flat_args, filtered_flat_args, cache_key_context)\u001b[0m\n\u001b[1;32m   3380\u001b[0m \u001b[0;34m\u001b[0m\u001b[0m\n\u001b[1;32m   3381\u001b[0m     graph_function = self._create_graph_function(\n\u001b[0;32m-> 3382\u001b[0;31m         args, kwargs, override_flat_arg_shapes=relaxed_arg_shapes)\n\u001b[0m\u001b[1;32m   3383\u001b[0m     \u001b[0mself\u001b[0m\u001b[0;34m.\u001b[0m\u001b[0m_function_cache\u001b[0m\u001b[0;34m.\u001b[0m\u001b[0marg_relaxed\u001b[0m\u001b[0;34m[\u001b[0m\u001b[0mrank_only_cache_key\u001b[0m\u001b[0;34m]\u001b[0m \u001b[0;34m=\u001b[0m \u001b[0mgraph_function\u001b[0m\u001b[0;34m\u001b[0m\u001b[0;34m\u001b[0m\u001b[0m\n\u001b[1;32m   3384\u001b[0m \u001b[0;34m\u001b[0m\u001b[0m\n",
      "\u001b[0;32m/usr/local/anaconda/envs/tensorflow2/lib/python3.6/site-packages/tensorflow/python/eager/function.py\u001b[0m in \u001b[0;36m_create_graph_function\u001b[0;34m(self, args, kwargs, override_flat_arg_shapes)\u001b[0m\n\u001b[1;32m   3306\u001b[0m             \u001b[0marg_names\u001b[0m\u001b[0;34m=\u001b[0m\u001b[0marg_names\u001b[0m\u001b[0;34m,\u001b[0m\u001b[0;34m\u001b[0m\u001b[0;34m\u001b[0m\u001b[0m\n\u001b[1;32m   3307\u001b[0m             \u001b[0moverride_flat_arg_shapes\u001b[0m\u001b[0;34m=\u001b[0m\u001b[0moverride_flat_arg_shapes\u001b[0m\u001b[0;34m,\u001b[0m\u001b[0;34m\u001b[0m\u001b[0;34m\u001b[0m\u001b[0m\n\u001b[0;32m-> 3308\u001b[0;31m             capture_by_value=self._capture_by_value),\n\u001b[0m\u001b[1;32m   3309\u001b[0m         \u001b[0mself\u001b[0m\u001b[0;34m.\u001b[0m\u001b[0m_function_attributes\u001b[0m\u001b[0;34m,\u001b[0m\u001b[0;34m\u001b[0m\u001b[0;34m\u001b[0m\u001b[0m\n\u001b[1;32m   3310\u001b[0m         \u001b[0mfunction_spec\u001b[0m\u001b[0;34m=\u001b[0m\u001b[0mself\u001b[0m\u001b[0;34m.\u001b[0m\u001b[0mfunction_spec\u001b[0m\u001b[0;34m,\u001b[0m\u001b[0;34m\u001b[0m\u001b[0;34m\u001b[0m\u001b[0m\n",
      "\u001b[0;32m/usr/local/anaconda/envs/tensorflow2/lib/python3.6/site-packages/tensorflow/python/framework/func_graph.py\u001b[0m in \u001b[0;36mfunc_graph_from_py_func\u001b[0;34m(name, python_func, args, kwargs, signature, func_graph, autograph, autograph_options, add_control_dependencies, arg_names, op_return_value, collections, capture_by_value, override_flat_arg_shapes, acd_record_initial_resource_uses)\u001b[0m\n\u001b[1;32m   1005\u001b[0m         \u001b[0m_\u001b[0m\u001b[0;34m,\u001b[0m \u001b[0moriginal_func\u001b[0m \u001b[0;34m=\u001b[0m \u001b[0mtf_decorator\u001b[0m\u001b[0;34m.\u001b[0m\u001b[0munwrap\u001b[0m\u001b[0;34m(\u001b[0m\u001b[0mpython_func\u001b[0m\u001b[0;34m)\u001b[0m\u001b[0;34m\u001b[0m\u001b[0;34m\u001b[0m\u001b[0m\n\u001b[1;32m   1006\u001b[0m \u001b[0;34m\u001b[0m\u001b[0m\n\u001b[0;32m-> 1007\u001b[0;31m       \u001b[0mfunc_outputs\u001b[0m \u001b[0;34m=\u001b[0m \u001b[0mpython_func\u001b[0m\u001b[0;34m(\u001b[0m\u001b[0;34m*\u001b[0m\u001b[0mfunc_args\u001b[0m\u001b[0;34m,\u001b[0m \u001b[0;34m**\u001b[0m\u001b[0mfunc_kwargs\u001b[0m\u001b[0;34m)\u001b[0m\u001b[0;34m\u001b[0m\u001b[0;34m\u001b[0m\u001b[0m\n\u001b[0m\u001b[1;32m   1008\u001b[0m \u001b[0;34m\u001b[0m\u001b[0m\n\u001b[1;32m   1009\u001b[0m       \u001b[0;31m# invariant: `func_outputs` contains only Tensors, CompositeTensors,\u001b[0m\u001b[0;34m\u001b[0m\u001b[0;34m\u001b[0m\u001b[0;34m\u001b[0m\u001b[0m\n",
      "\u001b[0;32m/usr/local/anaconda/envs/tensorflow2/lib/python3.6/site-packages/tensorflow/python/eager/def_function.py\u001b[0m in \u001b[0;36mwrapped_fn\u001b[0;34m(*args, **kwds)\u001b[0m\n\u001b[1;32m    666\u001b[0m         \u001b[0;31m# the function a weak reference to itself to avoid a reference cycle.\u001b[0m\u001b[0;34m\u001b[0m\u001b[0;34m\u001b[0m\u001b[0;34m\u001b[0m\u001b[0m\n\u001b[1;32m    667\u001b[0m         \u001b[0;32mwith\u001b[0m \u001b[0mOptionalXlaContext\u001b[0m\u001b[0;34m(\u001b[0m\u001b[0mcompile_with_xla\u001b[0m\u001b[0;34m)\u001b[0m\u001b[0;34m:\u001b[0m\u001b[0;34m\u001b[0m\u001b[0;34m\u001b[0m\u001b[0m\n\u001b[0;32m--> 668\u001b[0;31m           \u001b[0mout\u001b[0m \u001b[0;34m=\u001b[0m \u001b[0mweak_wrapped_fn\u001b[0m\u001b[0;34m(\u001b[0m\u001b[0;34m)\u001b[0m\u001b[0;34m.\u001b[0m\u001b[0m__wrapped__\u001b[0m\u001b[0;34m(\u001b[0m\u001b[0;34m*\u001b[0m\u001b[0margs\u001b[0m\u001b[0;34m,\u001b[0m \u001b[0;34m**\u001b[0m\u001b[0mkwds\u001b[0m\u001b[0;34m)\u001b[0m\u001b[0;34m\u001b[0m\u001b[0;34m\u001b[0m\u001b[0m\n\u001b[0m\u001b[1;32m    669\u001b[0m         \u001b[0;32mreturn\u001b[0m \u001b[0mout\u001b[0m\u001b[0;34m\u001b[0m\u001b[0;34m\u001b[0m\u001b[0m\n\u001b[1;32m    670\u001b[0m \u001b[0;34m\u001b[0m\u001b[0m\n",
      "\u001b[0;32m/usr/local/anaconda/envs/tensorflow2/lib/python3.6/site-packages/tensorflow/python/framework/func_graph.py\u001b[0m in \u001b[0;36mwrapper\u001b[0;34m(*args, **kwargs)\u001b[0m\n\u001b[1;32m    992\u001b[0m           \u001b[0;32mexcept\u001b[0m \u001b[0mException\u001b[0m \u001b[0;32mas\u001b[0m \u001b[0me\u001b[0m\u001b[0;34m:\u001b[0m  \u001b[0;31m# pylint:disable=broad-except\u001b[0m\u001b[0;34m\u001b[0m\u001b[0;34m\u001b[0m\u001b[0m\n\u001b[1;32m    993\u001b[0m             \u001b[0;32mif\u001b[0m \u001b[0mhasattr\u001b[0m\u001b[0;34m(\u001b[0m\u001b[0me\u001b[0m\u001b[0;34m,\u001b[0m \u001b[0;34m\"ag_error_metadata\"\u001b[0m\u001b[0;34m)\u001b[0m\u001b[0;34m:\u001b[0m\u001b[0;34m\u001b[0m\u001b[0;34m\u001b[0m\u001b[0m\n\u001b[0;32m--> 994\u001b[0;31m               \u001b[0;32mraise\u001b[0m \u001b[0me\u001b[0m\u001b[0;34m.\u001b[0m\u001b[0mag_error_metadata\u001b[0m\u001b[0;34m.\u001b[0m\u001b[0mto_exception\u001b[0m\u001b[0;34m(\u001b[0m\u001b[0me\u001b[0m\u001b[0;34m)\u001b[0m\u001b[0;34m\u001b[0m\u001b[0;34m\u001b[0m\u001b[0m\n\u001b[0m\u001b[1;32m    995\u001b[0m             \u001b[0;32melse\u001b[0m\u001b[0;34m:\u001b[0m\u001b[0;34m\u001b[0m\u001b[0;34m\u001b[0m\u001b[0m\n\u001b[1;32m    996\u001b[0m               \u001b[0;32mraise\u001b[0m\u001b[0;34m\u001b[0m\u001b[0;34m\u001b[0m\u001b[0m\n",
      "\u001b[0;31mValueError\u001b[0m: in user code:\n\n    /usr/local/anaconda/envs/tensorflow2/lib/python3.6/site-packages/keras/engine/training.py:1330 test_function  *\n        return step_function(self, iterator)\n    /usr/local/anaconda/envs/tensorflow2/lib/python3.6/site-packages/keras/engine/training.py:1320 step_function  **\n        outputs = model.distribute_strategy.run(run_step, args=(data,))\n    /usr/local/anaconda/envs/tensorflow2/lib/python3.6/site-packages/tensorflow/python/distribute/distribute_lib.py:1286 run\n        return self._extended.call_for_each_replica(fn, args=args, kwargs=kwargs)\n    /usr/local/anaconda/envs/tensorflow2/lib/python3.6/site-packages/tensorflow/python/distribute/distribute_lib.py:2849 call_for_each_replica\n        return self._call_for_each_replica(fn, args, kwargs)\n    /usr/local/anaconda/envs/tensorflow2/lib/python3.6/site-packages/tensorflow/python/distribute/distribute_lib.py:3632 _call_for_each_replica\n        return fn(*args, **kwargs)\n    /usr/local/anaconda/envs/tensorflow2/lib/python3.6/site-packages/keras/engine/training.py:1313 run_step  **\n        outputs = model.test_step(data)\n    /usr/local/anaconda/envs/tensorflow2/lib/python3.6/site-packages/keras/engine/training.py:1271 test_step\n        self.compiled_metrics.update_state(y, y_pred, sample_weight)\n    /usr/local/anaconda/envs/tensorflow2/lib/python3.6/site-packages/keras/engine/compile_utils.py:457 update_state\n        metric_obj.update_state(y_t, y_p, sample_weight=mask)\n    /usr/local/anaconda/envs/tensorflow2/lib/python3.6/site-packages/keras/utils/metrics_utils.py:73 decorated\n        update_op = update_state_fn(*args, **kwargs)\n    /usr/local/anaconda/envs/tensorflow2/lib/python3.6/site-packages/keras/metrics.py:177 update_state_fn\n        return ag_update_state(*args, **kwargs)\n    /usr/local/anaconda/envs/tensorflow2/lib/python3.6/site-packages/keras/metrics.py:681 update_state  **\n        matches = ag_fn(y_true, y_pred, **self._fn_kwargs)\n    /usr/local/anaconda/envs/tensorflow2/lib/python3.6/site-packages/tensorflow/python/util/dispatch.py:206 wrapper\n        return target(*args, **kwargs)\n    /usr/local/anaconda/envs/tensorflow2/lib/python3.6/site-packages/keras/metrics.py:3529 sparse_categorical_accuracy\n        y_true = tf.squeeze(y_true, [-1])\n    /usr/local/anaconda/envs/tensorflow2/lib/python3.6/site-packages/tensorflow/python/util/dispatch.py:206 wrapper\n        return target(*args, **kwargs)\n    /usr/local/anaconda/envs/tensorflow2/lib/python3.6/site-packages/tensorflow/python/ops/array_ops.py:4537 squeeze_v2\n        return squeeze(input, axis, name)\n    /usr/local/anaconda/envs/tensorflow2/lib/python3.6/site-packages/tensorflow/python/util/dispatch.py:206 wrapper\n        return target(*args, **kwargs)\n    /usr/local/anaconda/envs/tensorflow2/lib/python3.6/site-packages/tensorflow/python/util/deprecation.py:549 new_func\n        return func(*args, **kwargs)\n    /usr/local/anaconda/envs/tensorflow2/lib/python3.6/site-packages/tensorflow/python/ops/array_ops.py:4485 squeeze\n        return gen_array_ops.squeeze(input, axis, name)\n    /usr/local/anaconda/envs/tensorflow2/lib/python3.6/site-packages/tensorflow/python/ops/gen_array_ops.py:10199 squeeze\n        \"Squeeze\", input=input, squeeze_dims=axis, name=name)\n    /usr/local/anaconda/envs/tensorflow2/lib/python3.6/site-packages/tensorflow/python/framework/op_def_library.py:750 _apply_op_helper\n        attrs=attr_protos, op_def=op_def)\n    /usr/local/anaconda/envs/tensorflow2/lib/python3.6/site-packages/tensorflow/python/framework/func_graph.py:601 _create_op_internal\n        compute_device)\n    /usr/local/anaconda/envs/tensorflow2/lib/python3.6/site-packages/tensorflow/python/framework/ops.py:3569 _create_op_internal\n        op_def=op_def)\n    /usr/local/anaconda/envs/tensorflow2/lib/python3.6/site-packages/tensorflow/python/framework/ops.py:2042 __init__\n        control_input_ops, op_def)\n    /usr/local/anaconda/envs/tensorflow2/lib/python3.6/site-packages/tensorflow/python/framework/ops.py:1883 _create_c_op\n        raise ValueError(str(e))\n\n    ValueError: Can not squeeze dim[1], expected a dimension of 1, got 10 for '{{node Squeeze}} = Squeeze[T=DT_FLOAT, squeeze_dims=[-1]](IteratorGetNext:1)' with input shapes: [?,10].\n"
     ]
    }
   ],
   "source": [
    "X_new = X_test[:3]\n",
    "\n",
    "y_pred = model.predict(X_new)\n",
    "mse_test = model.evaluate(X_new,y_pred)"
   ]
  },
  {
   "cell_type": "code",
   "execution_count": null,
   "metadata": {},
   "outputs": [],
   "source": [
    "input_ = keras.layers.Input(shape=X_train.shape[1:])\n",
    "hidden1=keras.layers.Dense(30,activation=\"relu\")(input_)\n",
    "hidden2=keras.layers.Dense(30,activation=\"relu\")(hidden1)\n",
    "concat = keras.layers.Concatenate()([input_,hidden2])\n",
    "output = keras.layers.Dense(1)(concat)\n",
    "model = keras.Model(inputs=[input_],outputs=[output])"
   ]
  },
  {
   "cell_type": "code",
   "execution_count": 28,
   "metadata": {},
   "outputs": [],
   "source": [
    "input_A = keras.layers.Input(shape=[5],name='wide_input')\n",
    "input_B = keras.layers.Input(shape=[6],name='deep_input')\n",
    "hidden1 = keras.layers.Dense(30,activation=\"relu\")(input_B)\n",
    "hidden2 = keras.layers.Dense(30,activation=\"relu\")(hidden1)\n",
    "concat = keras.layers.concatenate([input_A, hidden2])\n",
    "output = keras.layers.Dense(1,name='Output')(concat)\n",
    "model = keras.Model(inputs=[input_A,input_B],outputs=[output])"
   ]
  },
  {
   "cell_type": "code",
   "execution_count": 29,
   "metadata": {},
   "outputs": [
    {
     "name": "stderr",
     "output_type": "stream",
     "text": [
      "/usr/local/anaconda/envs/tensorflow2/lib/python3.6/site-packages/keras/optimizer_v2/optimizer_v2.py:356: UserWarning: The `lr` argument is deprecated, use `learning_rate` instead.\n",
      "  \"The `lr` argument is deprecated, use `learning_rate` instead.\")\n"
     ]
    }
   ],
   "source": [
    "model.compile(loss=\"mse\",optimizer=keras.optimizers.SGD(lr=1e-3))"
   ]
  },
  {
   "cell_type": "code",
   "execution_count": 30,
   "metadata": {},
   "outputs": [],
   "source": [
    "X_train_A, X_train_B = X_train[:, :5], X_train[:, 2:]\n",
    "X_valid_A , X_valid_B = X_valid[:, :5], X_valid[:, 2:]\n",
    "X_test_A , X_test_B = X_test[:, :5], X_test[:, 2:]\n",
    "X_new_A,X_new_B = X_test_A[:3],X_test_B[:3]"
   ]
  },
  {
   "cell_type": "code",
   "execution_count": 31,
   "metadata": {},
   "outputs": [
    {
     "name": "stdout",
     "output_type": "stream",
     "text": [
      "Epoch 1/20\n",
      "363/363 [==============================] - 1s 3ms/step - loss: 2.2418 - val_loss: 0.8962\n",
      "Epoch 2/20\n",
      "363/363 [==============================] - 1s 3ms/step - loss: 0.7833 - val_loss: 0.7077\n",
      "Epoch 3/20\n",
      "363/363 [==============================] - 1s 3ms/step - loss: 0.6700 - val_loss: 0.6538\n",
      "Epoch 4/20\n",
      "363/363 [==============================] - 1s 2ms/step - loss: 0.6284 - val_loss: 0.6242\n",
      "Epoch 5/20\n",
      "363/363 [==============================] - 1s 2ms/step - loss: 0.6022 - val_loss: 0.6015\n",
      "Epoch 6/20\n",
      "363/363 [==============================] - 1s 2ms/step - loss: 0.5817 - val_loss: 0.5824\n",
      "Epoch 7/20\n",
      "363/363 [==============================] - 1s 2ms/step - loss: 0.5640 - val_loss: 0.5666\n",
      "Epoch 8/20\n",
      "363/363 [==============================] - 1s 2ms/step - loss: 0.5490 - val_loss: 0.5519\n",
      "Epoch 9/20\n",
      "363/363 [==============================] - 1s 2ms/step - loss: 0.5361 - val_loss: 0.5408\n",
      "Epoch 10/20\n",
      "363/363 [==============================] - 1s 2ms/step - loss: 0.5253 - val_loss: 0.5314\n",
      "Epoch 11/20\n",
      "363/363 [==============================] - 1s 2ms/step - loss: 0.5161 - val_loss: 0.5224\n",
      "Epoch 12/20\n",
      "363/363 [==============================] - 1s 2ms/step - loss: 0.5084 - val_loss: 0.5160\n",
      "Epoch 13/20\n",
      "363/363 [==============================] - 1s 2ms/step - loss: 0.5019 - val_loss: 0.5113\n",
      "Epoch 14/20\n",
      "363/363 [==============================] - 1s 2ms/step - loss: 0.4967 - val_loss: 0.5053\n",
      "Epoch 15/20\n",
      "363/363 [==============================] - 1s 2ms/step - loss: 0.4923 - val_loss: 0.5013\n",
      "Epoch 16/20\n",
      "363/363 [==============================] - 1s 2ms/step - loss: 0.4882 - val_loss: 0.4985\n",
      "Epoch 17/20\n",
      "363/363 [==============================] - 1s 2ms/step - loss: 0.4850 - val_loss: 0.4959\n",
      "Epoch 18/20\n",
      "363/363 [==============================] - 1s 2ms/step - loss: 0.4823 - val_loss: 0.4924\n",
      "Epoch 19/20\n",
      "363/363 [==============================] - 1s 2ms/step - loss: 0.4794 - val_loss: 0.4902\n",
      "Epoch 20/20\n",
      "363/363 [==============================] - 1s 2ms/step - loss: 0.4770 - val_loss: 0.4870\n"
     ]
    }
   ],
   "source": [
    "history = model.fit((X_train_A, X_train_B), y_train, epochs=20, validation_data=((X_valid_A, X_valid_B), y_valid))\n"
   ]
  },
  {
   "cell_type": "code",
   "execution_count": 34,
   "metadata": {},
   "outputs": [
    {
     "name": "stdout",
     "output_type": "stream",
     "text": [
      "162/162 [==============================] - 0s 1ms/step - loss: 0.4526\n"
     ]
    }
   ],
   "source": [
    "mse_test = model.evaluate((X_test_A, X_test_B),y_test)\n",
    "y_pred = model.predict((X_new_A,X_new_B))"
   ]
  },
  {
   "cell_type": "markdown",
   "metadata": {},
   "source": [
    "### Adding Multiple Outputs"
   ]
  },
  {
   "cell_type": "code",
   "execution_count": 35,
   "metadata": {},
   "outputs": [],
   "source": [
    "output = keras.layers.Dense(1,name=\"main_output\")(concat)\n",
    "aux_output = keras.layers.Dense(1,name=\"aux_output\")(hidden2)\n",
    "model = keras.Model(inputs=[input_A, input_B],outputs=[output,aux_output])"
   ]
  },
  {
   "cell_type": "code",
   "execution_count": 36,
   "metadata": {},
   "outputs": [],
   "source": [
    "model.compile(loss=[\"mse\",\"mse\"], loss_weights = [0.9,0.1],optimizer=\"sgd\")"
   ]
  },
  {
   "cell_type": "code",
   "execution_count": 37,
   "metadata": {},
   "outputs": [
    {
     "name": "stdout",
     "output_type": "stream",
     "text": [
      "Epoch 1/20\n",
      "363/363 [==============================] - 1s 2ms/step - loss: 0.9739 - main_output_loss: 0.8898 - aux_output_loss: 1.7309 - val_loss: 0.5456 - val_main_output_loss: 0.4877 - val_aux_output_loss: 1.0665\n",
      "Epoch 2/20\n",
      "363/363 [==============================] - 1s 2ms/step - loss: 0.5582 - main_output_loss: 0.5088 - aux_output_loss: 1.0028 - val_loss: 0.5094 - val_main_output_loss: 0.4669 - val_aux_output_loss: 0.8921\n",
      "Epoch 3/20\n",
      "363/363 [==============================] - 1s 2ms/step - loss: 0.4970 - main_output_loss: 0.4569 - aux_output_loss: 0.8582 - val_loss: 0.4920 - val_main_output_loss: 0.4595 - val_aux_output_loss: 0.7849\n",
      "Epoch 4/20\n",
      "363/363 [==============================] - 1s 2ms/step - loss: 0.4728 - main_output_loss: 0.4397 - aux_output_loss: 0.7705 - val_loss: 0.4689 - val_main_output_loss: 0.4411 - val_aux_output_loss: 0.7194\n",
      "Epoch 5/20\n",
      "363/363 [==============================] - 1s 2ms/step - loss: 0.4717 - main_output_loss: 0.4445 - aux_output_loss: 0.7161 - val_loss: 0.4604 - val_main_output_loss: 0.4359 - val_aux_output_loss: 0.6805\n",
      "Epoch 6/20\n",
      "363/363 [==============================] - 1s 2ms/step - loss: 0.4563 - main_output_loss: 0.4315 - aux_output_loss: 0.6793 - val_loss: 0.4454 - val_main_output_loss: 0.4219 - val_aux_output_loss: 0.6566\n",
      "Epoch 7/20\n",
      "363/363 [==============================] - 1s 2ms/step - loss: 0.4400 - main_output_loss: 0.4160 - aux_output_loss: 0.6563 - val_loss: 0.4498 - val_main_output_loss: 0.4279 - val_aux_output_loss: 0.6469\n",
      "Epoch 8/20\n",
      "363/363 [==============================] - 1s 2ms/step - loss: 0.4615 - main_output_loss: 0.4409 - aux_output_loss: 0.6465 - val_loss: 0.4427 - val_main_output_loss: 0.4227 - val_aux_output_loss: 0.6232\n",
      "Epoch 9/20\n",
      "363/363 [==============================] - 1s 2ms/step - loss: 0.4973 - main_output_loss: 0.4813 - aux_output_loss: 0.6412 - val_loss: 0.4409 - val_main_output_loss: 0.4217 - val_aux_output_loss: 0.6140\n",
      "Epoch 10/20\n",
      "363/363 [==============================] - 1s 2ms/step - loss: 0.4265 - main_output_loss: 0.4065 - aux_output_loss: 0.6071 - val_loss: 0.4256 - val_main_output_loss: 0.4062 - val_aux_output_loss: 0.6001\n",
      "Epoch 11/20\n",
      "363/363 [==============================] - 1s 2ms/step - loss: 0.4155 - main_output_loss: 0.3959 - aux_output_loss: 0.5910 - val_loss: 0.4184 - val_main_output_loss: 0.4002 - val_aux_output_loss: 0.5824\n",
      "Epoch 12/20\n",
      "363/363 [==============================] - 1s 2ms/step - loss: 0.4082 - main_output_loss: 0.3894 - aux_output_loss: 0.5776 - val_loss: 0.4044 - val_main_output_loss: 0.3856 - val_aux_output_loss: 0.5737\n",
      "Epoch 13/20\n",
      "363/363 [==============================] - 1s 2ms/step - loss: 0.4063 - main_output_loss: 0.3875 - aux_output_loss: 0.5755 - val_loss: 0.4086 - val_main_output_loss: 0.3919 - val_aux_output_loss: 0.5590\n",
      "Epoch 14/20\n",
      "363/363 [==============================] - 1s 2ms/step - loss: 0.4061 - main_output_loss: 0.3888 - aux_output_loss: 0.5619 - val_loss: 0.3954 - val_main_output_loss: 0.3792 - val_aux_output_loss: 0.5414\n",
      "Epoch 15/20\n",
      "363/363 [==============================] - 1s 2ms/step - loss: 0.3942 - main_output_loss: 0.3772 - aux_output_loss: 0.5475 - val_loss: 0.3899 - val_main_output_loss: 0.3730 - val_aux_output_loss: 0.5417\n",
      "Epoch 16/20\n",
      "363/363 [==============================] - 1s 2ms/step - loss: 0.3882 - main_output_loss: 0.3715 - aux_output_loss: 0.5387 - val_loss: 0.3864 - val_main_output_loss: 0.3708 - val_aux_output_loss: 0.5261\n",
      "Epoch 17/20\n",
      "363/363 [==============================] - 1s 2ms/step - loss: 0.3803 - main_output_loss: 0.3641 - aux_output_loss: 0.5263 - val_loss: 0.3796 - val_main_output_loss: 0.3649 - val_aux_output_loss: 0.5123\n",
      "Epoch 18/20\n",
      "363/363 [==============================] - 1s 2ms/step - loss: 0.3786 - main_output_loss: 0.3628 - aux_output_loss: 0.5208 - val_loss: 0.3825 - val_main_output_loss: 0.3684 - val_aux_output_loss: 0.5095\n",
      "Epoch 19/20\n",
      "363/363 [==============================] - 1s 2ms/step - loss: 0.3738 - main_output_loss: 0.3586 - aux_output_loss: 0.5114 - val_loss: 0.3817 - val_main_output_loss: 0.3680 - val_aux_output_loss: 0.5053\n",
      "Epoch 20/20\n",
      "363/363 [==============================] - 1s 2ms/step - loss: 0.3713 - main_output_loss: 0.3565 - aux_output_loss: 0.5042 - val_loss: 0.3740 - val_main_output_loss: 0.3605 - val_aux_output_loss: 0.4954\n"
     ]
    }
   ],
   "source": [
    "history = model.fit([X_train_A,X_train_B],[y_train,y_train],epochs=20,validation_data=([X_valid_A,X_valid_B], [y_valid,y_valid]))"
   ]
  },
  {
   "cell_type": "code",
   "execution_count": 38,
   "metadata": {},
   "outputs": [
    {
     "name": "stdout",
     "output_type": "stream",
     "text": [
      "162/162 [==============================] - 0s 1ms/step - loss: 0.3577 - main_output_loss: 0.3434 - aux_output_loss: 0.4855\n"
     ]
    }
   ],
   "source": [
    "total_loss, main_loss, aux_loss = model.evaluate([X_test_A,X_test_B], [y_test,y_test])"
   ]
  },
  {
   "cell_type": "code",
   "execution_count": 39,
   "metadata": {},
   "outputs": [],
   "source": [
    "y_pred_main, y_presd_aus = model.predict([X_new_A,X_new_B])"
   ]
  },
  {
   "cell_type": "code",
   "execution_count": 40,
   "metadata": {},
   "outputs": [],
   "source": [
    "model.save(\"my_keras_model.h5\")"
   ]
  },
  {
   "cell_type": "code",
   "execution_count": 41,
   "metadata": {},
   "outputs": [],
   "source": [
    "model = keras.models.load_model(\"my_keras_model.h5\")"
   ]
  },
  {
   "cell_type": "markdown",
   "metadata": {},
   "source": [
    "For example, the ModelCheckpoint callback saves checkpoints of your\n",
    "model at regular intervals during training, by default at the end of each\n",
    "epoch:"
   ]
  },
  {
   "cell_type": "code",
   "execution_count": 44,
   "metadata": {},
   "outputs": [
    {
     "name": "stdout",
     "output_type": "stream",
     "text": [
      "Epoch 1/20\n",
      "363/363 [==============================] - 1s 2ms/step - loss: 0.3736 - main_output_loss: 0.3594 - aux_output_loss: 0.5011\n",
      "Epoch 2/20\n",
      "363/363 [==============================] - 1s 2ms/step - loss: 0.3744 - main_output_loss: 0.3600 - aux_output_loss: 0.5041\n",
      "Epoch 3/20\n",
      "363/363 [==============================] - 1s 2ms/step - loss: 0.4205 - main_output_loss: 0.4071 - aux_output_loss: 0.5405\n",
      "Epoch 4/20\n",
      "363/363 [==============================] - 1s 2ms/step - loss: 0.4015 - main_output_loss: 0.3884 - aux_output_loss: 0.5198\n",
      "Epoch 5/20\n",
      "363/363 [==============================] - 1s 3ms/step - loss: 0.3827 - main_output_loss: 0.3703 - aux_output_loss: 0.4944\n",
      "Epoch 6/20\n",
      "363/363 [==============================] - 1s 2ms/step - loss: 0.3680 - main_output_loss: 0.3549 - aux_output_loss: 0.4858\n",
      "Epoch 7/20\n",
      "363/363 [==============================] - 1s 3ms/step - loss: 0.3639 - main_output_loss: 0.3513 - aux_output_loss: 0.4768\n",
      "Epoch 8/20\n",
      "363/363 [==============================] - 1s 3ms/step - loss: 0.3650 - main_output_loss: 0.3528 - aux_output_loss: 0.4746\n",
      "Epoch 9/20\n",
      "363/363 [==============================] - 1s 4ms/step - loss: 0.3580 - main_output_loss: 0.3458 - aux_output_loss: 0.4675\n",
      "Epoch 10/20\n",
      "363/363 [==============================] - 1s 3ms/step - loss: 0.3628 - main_output_loss: 0.3512 - aux_output_loss: 0.4674\n",
      "Epoch 11/20\n",
      "363/363 [==============================] - 1s 2ms/step - loss: 0.3542 - main_output_loss: 0.3422 - aux_output_loss: 0.4624\n",
      "Epoch 12/20\n",
      "363/363 [==============================] - 1s 2ms/step - loss: 0.3541 - main_output_loss: 0.3424 - aux_output_loss: 0.4593\n",
      "Epoch 13/20\n",
      "363/363 [==============================] - 1s 2ms/step - loss: 0.3523 - main_output_loss: 0.3408 - aux_output_loss: 0.4554\n",
      "Epoch 14/20\n",
      "363/363 [==============================] - 1s 2ms/step - loss: 0.3512 - main_output_loss: 0.3394 - aux_output_loss: 0.4569\n",
      "Epoch 15/20\n",
      "363/363 [==============================] - 1s 2ms/step - loss: 0.3630 - main_output_loss: 0.3521 - aux_output_loss: 0.4612\n",
      "Epoch 16/20\n",
      "363/363 [==============================] - 1s 2ms/step - loss: 0.3569 - main_output_loss: 0.3467 - aux_output_loss: 0.4491\n",
      "Epoch 17/20\n",
      "363/363 [==============================] - 1s 2ms/step - loss: 0.3503 - main_output_loss: 0.3396 - aux_output_loss: 0.4467\n",
      "Epoch 18/20\n",
      "363/363 [==============================] - 1s 2ms/step - loss: 0.3481 - main_output_loss: 0.3376 - aux_output_loss: 0.4420\n",
      "Epoch 19/20\n",
      "363/363 [==============================] - 1s 2ms/step - loss: 0.3461 - main_output_loss: 0.3356 - aux_output_loss: 0.4402\n",
      "Epoch 20/20\n",
      "363/363 [==============================] - 1s 2ms/step - loss: 0.3432 - main_output_loss: 0.3329 - aux_output_loss: 0.4367\n"
     ]
    }
   ],
   "source": [
    "checkpoint_cb = keras.callbacks.ModelCheckpoint(\"my_keras_model.h5\")\n",
    "\n",
    "history = model.fit([X_train_A,X_train_B],[y_train,y_train],epochs=20,callbacks=[checkpoint_cb])"
   ]
  },
  {
   "cell_type": "code",
   "execution_count": 46,
   "metadata": {},
   "outputs": [
    {
     "name": "stdout",
     "output_type": "stream",
     "text": [
      "Epoch 1/10\n",
      "363/363 [==============================] - 1s 3ms/step - loss: 0.3433 - main_output_loss: 0.3332 - aux_output_loss: 0.4338 - val_loss: 0.3753 - val_main_output_loss: 0.3663 - val_aux_output_loss: 0.4566\n",
      "Epoch 2/10\n",
      "363/363 [==============================] - 1s 2ms/step - loss: 0.3418 - main_output_loss: 0.3316 - aux_output_loss: 0.4332 - val_loss: 0.3474 - val_main_output_loss: 0.3382 - val_aux_output_loss: 0.4298\n",
      "Epoch 3/10\n",
      "363/363 [==============================] - 1s 2ms/step - loss: 0.3406 - main_output_loss: 0.3306 - aux_output_loss: 0.4309 - val_loss: 0.3545 - val_main_output_loss: 0.3460 - val_aux_output_loss: 0.4306\n",
      "Epoch 4/10\n",
      "363/363 [==============================] - 1s 2ms/step - loss: 0.3434 - main_output_loss: 0.3338 - aux_output_loss: 0.4295 - val_loss: 0.3438 - val_main_output_loss: 0.3351 - val_aux_output_loss: 0.4219\n",
      "Epoch 5/10\n",
      "363/363 [==============================] - 1s 3ms/step - loss: 0.3420 - main_output_loss: 0.3324 - aux_output_loss: 0.4283 - val_loss: 0.3447 - val_main_output_loss: 0.3363 - val_aux_output_loss: 0.4206\n",
      "Epoch 6/10\n",
      "363/363 [==============================] - 1s 2ms/step - loss: 0.3400 - main_output_loss: 0.3304 - aux_output_loss: 0.4266 - val_loss: 0.3421 - val_main_output_loss: 0.3334 - val_aux_output_loss: 0.4211\n",
      "Epoch 7/10\n",
      "363/363 [==============================] - 1s 2ms/step - loss: 0.3387 - main_output_loss: 0.3293 - aux_output_loss: 0.4237 - val_loss: 0.3454 - val_main_output_loss: 0.3369 - val_aux_output_loss: 0.4214\n",
      "Epoch 8/10\n",
      "363/363 [==============================] - 1s 2ms/step - loss: 0.3393 - main_output_loss: 0.3298 - aux_output_loss: 0.4249 - val_loss: 0.3424 - val_main_output_loss: 0.3339 - val_aux_output_loss: 0.4189\n",
      "Epoch 9/10\n",
      "363/363 [==============================] - 1s 2ms/step - loss: 0.3388 - main_output_loss: 0.3295 - aux_output_loss: 0.4222 - val_loss: 0.3466 - val_main_output_loss: 0.3388 - val_aux_output_loss: 0.4169\n",
      "Epoch 10/10\n",
      "363/363 [==============================] - 1s 2ms/step - loss: 0.3358 - main_output_loss: 0.3265 - aux_output_loss: 0.4193 - val_loss: 0.3487 - val_main_output_loss: 0.3409 - val_aux_output_loss: 0.4182\n"
     ]
    }
   ],
   "source": [
    "checkpoint_cb = keras.callbacks.ModelCheckpoint(\"my_keras_model.h5\",save_best_only=True)\n",
    "history = model.fit([X_train_A,X_train_B],[y_train,y_train],epochs=10,validation_data=([X_valid_A,X_valid_B],[y_valid,y_valid]),callbacks=[checkpoint_cb])"
   ]
  },
  {
   "cell_type": "code",
   "execution_count": 47,
   "metadata": {},
   "outputs": [],
   "source": [
    "model = keras.models.load_model(\"my_keras_model.h5\")"
   ]
  },
  {
   "cell_type": "code",
   "execution_count": 48,
   "metadata": {},
   "outputs": [
    {
     "name": "stdout",
     "output_type": "stream",
     "text": [
      "Epoch 1/10\n",
      "363/363 [==============================] - 1s 2ms/step - loss: 0.3393 - main_output_loss: 0.3299 - aux_output_loss: 0.4237 - val_loss: 0.3460 - val_main_output_loss: 0.3376 - val_aux_output_loss: 0.4210\n",
      "Epoch 2/10\n",
      "363/363 [==============================] - 1s 2ms/step - loss: 0.3390 - main_output_loss: 0.3296 - aux_output_loss: 0.4230 - val_loss: 0.3481 - val_main_output_loss: 0.3403 - val_aux_output_loss: 0.4181\n",
      "Epoch 3/10\n",
      "363/363 [==============================] - 1s 2ms/step - loss: 0.3393 - main_output_loss: 0.3302 - aux_output_loss: 0.4212 - val_loss: 0.3437 - val_main_output_loss: 0.3353 - val_aux_output_loss: 0.4193\n",
      "Epoch 4/10\n",
      "363/363 [==============================] - 1s 2ms/step - loss: 0.3371 - main_output_loss: 0.3276 - aux_output_loss: 0.4225 - val_loss: 0.3409 - val_main_output_loss: 0.3328 - val_aux_output_loss: 0.4132\n",
      "Epoch 5/10\n",
      "363/363 [==============================] - 1s 2ms/step - loss: 0.3374 - main_output_loss: 0.3283 - aux_output_loss: 0.4188 - val_loss: 0.3427 - val_main_output_loss: 0.3348 - val_aux_output_loss: 0.4144\n",
      "Epoch 6/10\n",
      "363/363 [==============================] - 1s 2ms/step - loss: 0.3345 - main_output_loss: 0.3254 - aux_output_loss: 0.4168 - val_loss: 0.3487 - val_main_output_loss: 0.3414 - val_aux_output_loss: 0.4148\n",
      "Epoch 7/10\n",
      "363/363 [==============================] - 1s 2ms/step - loss: 0.3342 - main_output_loss: 0.3253 - aux_output_loss: 0.4149 - val_loss: 0.3422 - val_main_output_loss: 0.3339 - val_aux_output_loss: 0.4164\n",
      "Epoch 8/10\n",
      "363/363 [==============================] - 1s 2ms/step - loss: 0.3352 - main_output_loss: 0.3263 - aux_output_loss: 0.4156 - val_loss: 0.3383 - val_main_output_loss: 0.3304 - val_aux_output_loss: 0.4090\n",
      "Epoch 9/10\n",
      "363/363 [==============================] - 1s 2ms/step - loss: 0.3362 - main_output_loss: 0.3275 - aux_output_loss: 0.4145 - val_loss: 0.3368 - val_main_output_loss: 0.3292 - val_aux_output_loss: 0.4059\n",
      "Epoch 10/10\n",
      "363/363 [==============================] - 1s 2ms/step - loss: 0.3424 - main_output_loss: 0.3342 - aux_output_loss: 0.4165 - val_loss: 0.3428 - val_main_output_loss: 0.3347 - val_aux_output_loss: 0.4157\n"
     ]
    }
   ],
   "source": [
    "early_stopping_cb = keras.callbacks.EarlyStopping(patience=10,restore_best_weights=True)\n",
    "history = model.fit([X_train_A,X_train_B],[y_train,y_train],epochs=10,validation_data=([X_valid_A,X_valid_B],[y_valid,y_valid]),callbacks=[checkpoint_cb,early_stopping_cb])"
   ]
  },
  {
   "cell_type": "markdown",
   "metadata": {},
   "source": [
    "# Hyper parameter finding / tuning"
   ]
  },
  {
   "cell_type": "code",
   "execution_count": 49,
   "metadata": {},
   "outputs": [],
   "source": [
    "from tensorflow import keras\n",
    "from keras.wrappers.scikit_learn import KerasRegressor\n",
    "\n",
    "def build_model(n_neurons=30, learning_rate=1e-3):\n",
    "    input_A = keras.layers.Input(shape=[5], name='wide_input')\n",
    "    input_B = keras.layers.Input(shape=[6], name='deep_input')\n",
    "    \n",
    "    hidden1 = keras.layers.Dense(n_neurons, activation=\"relu\")(input_B)\n",
    "    hidden2 = keras.layers.Dense(n_neurons, activation=\"relu\")(hidden1)\n",
    "    concat = keras.layers.concatenate([input_A, hidden2])\n",
    "    output = keras.layers.Dense(1, name='Output')(concat)\n",
    "    \n",
    "    model = keras.Model(inputs=[input_A, input_B], outputs=[output])\n",
    "    model.compile(loss=\"mse\", optimizer=keras.optimizers.SGD(learning_rate=learning_rate))\n",
    "    \n",
    "    return model\n"
   ]
  },
  {
   "cell_type": "code",
   "execution_count": 50,
   "metadata": {},
   "outputs": [],
   "source": [
    "from sklearn.model_selection import RandomizedSearchCV"
   ]
  },
  {
   "cell_type": "code",
   "execution_count": 51,
   "metadata": {},
   "outputs": [],
   "source": [
    "my_model = KerasRegressor(build_fn=build_model,epochs=10, verbose=0)"
   ]
  },
  {
   "cell_type": "code",
   "execution_count": 52,
   "metadata": {},
   "outputs": [],
   "source": [
    "param = { \"n_neurons\":[16,30,64] , \"learning_rate\":[1e-2, 1e-3, 5e-4]}"
   ]
  },
  {
   "cell_type": "code",
   "execution_count": 57,
   "metadata": {},
   "outputs": [],
   "source": [
    "rnd_srch = RandomizedSearchCV(my_model,param_distributions = param,n_iter=5,cv=2,verbose=2)"
   ]
  },
  {
   "cell_type": "code",
   "execution_count": 58,
   "metadata": {},
   "outputs": [
    {
     "name": "stdout",
     "output_type": "stream",
     "text": [
      "Fitting 2 folds for each of 5 candidates, totalling 10 fits\n",
      "[CV] n_neurons=64, learning_rate=0.0005 ..............................\n",
      "[CV] ............... n_neurons=64, learning_rate=0.0005, total=   0.1s\n",
      "[CV] n_neurons=64, learning_rate=0.0005 ..............................\n"
     ]
    },
    {
     "name": "stderr",
     "output_type": "stream",
     "text": [
      "[Parallel(n_jobs=1)]: Using backend SequentialBackend with 1 concurrent workers.\n",
      "/usr/local/anaconda/envs/tensorflow2/lib/python3.6/site-packages/sklearn/model_selection/_validation.py:536: FitFailedWarning: Estimator fit failed. The score on this train-test partition for these parameters will be set to nan. Details: \n",
      "ValueError: in user code:\n",
      "\n",
      "    /usr/local/anaconda/envs/tensorflow2/lib/python3.6/site-packages/keras/engine/training.py:853 train_function  *\n",
      "        return step_function(self, iterator)\n",
      "    /usr/local/anaconda/envs/tensorflow2/lib/python3.6/site-packages/keras/engine/training.py:842 step_function  **\n",
      "        outputs = model.distribute_strategy.run(run_step, args=(data,))\n",
      "    /usr/local/anaconda/envs/tensorflow2/lib/python3.6/site-packages/tensorflow/python/distribute/distribute_lib.py:1286 run\n",
      "        return self._extended.call_for_each_replica(fn, args=args, kwargs=kwargs)\n",
      "    /usr/local/anaconda/envs/tensorflow2/lib/python3.6/site-packages/tensorflow/python/distribute/distribute_lib.py:2849 call_for_each_replica\n",
      "        return self._call_for_each_replica(fn, args, kwargs)\n",
      "    /usr/local/anaconda/envs/tensorflow2/lib/python3.6/site-packages/tensorflow/python/distribute/distribute_lib.py:3632 _call_for_each_replica\n",
      "        return fn(*args, **kwargs)\n",
      "    /usr/local/anaconda/envs/tensorflow2/lib/python3.6/site-packages/keras/engine/training.py:835 run_step  **\n",
      "        outputs = model.train_step(data)\n",
      "    /usr/local/anaconda/envs/tensorflow2/lib/python3.6/site-packages/keras/engine/training.py:787 train_step\n",
      "        y_pred = self(x, training=True)\n",
      "    /usr/local/anaconda/envs/tensorflow2/lib/python3.6/site-packages/keras/engine/base_layer.py:1020 __call__\n",
      "        input_spec.assert_input_compatibility(self.input_spec, inputs, self.name)\n",
      "    /usr/local/anaconda/envs/tensorflow2/lib/python3.6/site-packages/keras/engine/input_spec.py:202 assert_input_compatibility\n",
      "        ' input tensors. Inputs received: ' + str(inputs))\n",
      "\n",
      "    ValueError: Layer model_3 expects 2 input(s), but it received 1 input tensors. Inputs received: [<tf.Tensor 'IteratorGetNext:0' shape=(None, 6) dtype=float32>]\n",
      "\n",
      "\n",
      "  FitFailedWarning)\n",
      "[Parallel(n_jobs=1)]: Done   1 out of   1 | elapsed:    0.1s remaining:    0.0s\n",
      "/usr/local/anaconda/envs/tensorflow2/lib/python3.6/site-packages/sklearn/model_selection/_validation.py:536: FitFailedWarning: Estimator fit failed. The score on this train-test partition for these parameters will be set to nan. Details: \n",
      "ValueError: in user code:\n",
      "\n",
      "    /usr/local/anaconda/envs/tensorflow2/lib/python3.6/site-packages/keras/engine/training.py:853 train_function  *\n",
      "        return step_function(self, iterator)\n",
      "    /usr/local/anaconda/envs/tensorflow2/lib/python3.6/site-packages/keras/engine/training.py:842 step_function  **\n",
      "        outputs = model.distribute_strategy.run(run_step, args=(data,))\n",
      "    /usr/local/anaconda/envs/tensorflow2/lib/python3.6/site-packages/tensorflow/python/distribute/distribute_lib.py:1286 run\n",
      "        return self._extended.call_for_each_replica(fn, args=args, kwargs=kwargs)\n",
      "    /usr/local/anaconda/envs/tensorflow2/lib/python3.6/site-packages/tensorflow/python/distribute/distribute_lib.py:2849 call_for_each_replica\n",
      "        return self._call_for_each_replica(fn, args, kwargs)\n",
      "    /usr/local/anaconda/envs/tensorflow2/lib/python3.6/site-packages/tensorflow/python/distribute/distribute_lib.py:3632 _call_for_each_replica\n",
      "        return fn(*args, **kwargs)\n",
      "    /usr/local/anaconda/envs/tensorflow2/lib/python3.6/site-packages/keras/engine/training.py:835 run_step  **\n",
      "        outputs = model.train_step(data)\n",
      "    /usr/local/anaconda/envs/tensorflow2/lib/python3.6/site-packages/keras/engine/training.py:787 train_step\n",
      "        y_pred = self(x, training=True)\n",
      "    /usr/local/anaconda/envs/tensorflow2/lib/python3.6/site-packages/keras/engine/base_layer.py:1020 __call__\n",
      "        input_spec.assert_input_compatibility(self.input_spec, inputs, self.name)\n",
      "    /usr/local/anaconda/envs/tensorflow2/lib/python3.6/site-packages/keras/engine/input_spec.py:202 assert_input_compatibility\n",
      "        ' input tensors. Inputs received: ' + str(inputs))\n",
      "\n",
      "    ValueError: Layer model_4 expects 2 input(s), but it received 1 input tensors. Inputs received: [<tf.Tensor 'IteratorGetNext:0' shape=(None, 5) dtype=float32>]\n",
      "\n",
      "\n",
      "  FitFailedWarning)\n",
      "/usr/local/anaconda/envs/tensorflow2/lib/python3.6/site-packages/sklearn/model_selection/_validation.py:536: FitFailedWarning: Estimator fit failed. The score on this train-test partition for these parameters will be set to nan. Details: \n",
      "ValueError: in user code:\n",
      "\n",
      "    /usr/local/anaconda/envs/tensorflow2/lib/python3.6/site-packages/keras/engine/training.py:853 train_function  *\n",
      "        return step_function(self, iterator)\n",
      "    /usr/local/anaconda/envs/tensorflow2/lib/python3.6/site-packages/keras/engine/training.py:842 step_function  **\n",
      "        outputs = model.distribute_strategy.run(run_step, args=(data,))\n",
      "    /usr/local/anaconda/envs/tensorflow2/lib/python3.6/site-packages/tensorflow/python/distribute/distribute_lib.py:1286 run\n",
      "        return self._extended.call_for_each_replica(fn, args=args, kwargs=kwargs)\n",
      "    /usr/local/anaconda/envs/tensorflow2/lib/python3.6/site-packages/tensorflow/python/distribute/distribute_lib.py:2849 call_for_each_replica\n",
      "        return self._call_for_each_replica(fn, args, kwargs)\n",
      "    /usr/local/anaconda/envs/tensorflow2/lib/python3.6/site-packages/tensorflow/python/distribute/distribute_lib.py:3632 _call_for_each_replica\n",
      "        return fn(*args, **kwargs)\n",
      "    /usr/local/anaconda/envs/tensorflow2/lib/python3.6/site-packages/keras/engine/training.py:835 run_step  **\n",
      "        outputs = model.train_step(data)\n",
      "    /usr/local/anaconda/envs/tensorflow2/lib/python3.6/site-packages/keras/engine/training.py:787 train_step\n",
      "        y_pred = self(x, training=True)\n",
      "    /usr/local/anaconda/envs/tensorflow2/lib/python3.6/site-packages/keras/engine/base_layer.py:1020 __call__\n",
      "        input_spec.assert_input_compatibility(self.input_spec, inputs, self.name)\n",
      "    /usr/local/anaconda/envs/tensorflow2/lib/python3.6/site-packages/keras/engine/input_spec.py:202 assert_input_compatibility\n",
      "        ' input tensors. Inputs received: ' + str(inputs))\n",
      "\n",
      "    ValueError: Layer model_5 expects 2 input(s), but it received 1 input tensors. Inputs received: [<tf.Tensor 'IteratorGetNext:0' shape=(None, 6) dtype=float32>]\n",
      "\n",
      "\n",
      "  FitFailedWarning)\n"
     ]
    },
    {
     "name": "stdout",
     "output_type": "stream",
     "text": [
      "[CV] ............... n_neurons=64, learning_rate=0.0005, total=   0.1s\n",
      "[CV] n_neurons=30, learning_rate=0.01 ................................\n",
      "[CV] ................. n_neurons=30, learning_rate=0.01, total=   0.1s\n",
      "[CV] n_neurons=30, learning_rate=0.01 ................................\n"
     ]
    },
    {
     "name": "stderr",
     "output_type": "stream",
     "text": [
      "/usr/local/anaconda/envs/tensorflow2/lib/python3.6/site-packages/sklearn/model_selection/_validation.py:536: FitFailedWarning: Estimator fit failed. The score on this train-test partition for these parameters will be set to nan. Details: \n",
      "ValueError: in user code:\n",
      "\n",
      "    /usr/local/anaconda/envs/tensorflow2/lib/python3.6/site-packages/keras/engine/training.py:853 train_function  *\n",
      "        return step_function(self, iterator)\n",
      "    /usr/local/anaconda/envs/tensorflow2/lib/python3.6/site-packages/keras/engine/training.py:842 step_function  **\n",
      "        outputs = model.distribute_strategy.run(run_step, args=(data,))\n",
      "    /usr/local/anaconda/envs/tensorflow2/lib/python3.6/site-packages/tensorflow/python/distribute/distribute_lib.py:1286 run\n",
      "        return self._extended.call_for_each_replica(fn, args=args, kwargs=kwargs)\n",
      "    /usr/local/anaconda/envs/tensorflow2/lib/python3.6/site-packages/tensorflow/python/distribute/distribute_lib.py:2849 call_for_each_replica\n",
      "        return self._call_for_each_replica(fn, args, kwargs)\n",
      "    /usr/local/anaconda/envs/tensorflow2/lib/python3.6/site-packages/tensorflow/python/distribute/distribute_lib.py:3632 _call_for_each_replica\n",
      "        return fn(*args, **kwargs)\n",
      "    /usr/local/anaconda/envs/tensorflow2/lib/python3.6/site-packages/keras/engine/training.py:835 run_step  **\n",
      "        outputs = model.train_step(data)\n",
      "    /usr/local/anaconda/envs/tensorflow2/lib/python3.6/site-packages/keras/engine/training.py:787 train_step\n",
      "        y_pred = self(x, training=True)\n",
      "    /usr/local/anaconda/envs/tensorflow2/lib/python3.6/site-packages/keras/engine/base_layer.py:1020 __call__\n",
      "        input_spec.assert_input_compatibility(self.input_spec, inputs, self.name)\n",
      "    /usr/local/anaconda/envs/tensorflow2/lib/python3.6/site-packages/keras/engine/input_spec.py:202 assert_input_compatibility\n",
      "        ' input tensors. Inputs received: ' + str(inputs))\n",
      "\n",
      "    ValueError: Layer model_6 expects 2 input(s), but it received 1 input tensors. Inputs received: [<tf.Tensor 'IteratorGetNext:0' shape=(None, 5) dtype=float32>]\n",
      "\n",
      "\n",
      "  FitFailedWarning)\n",
      "/usr/local/anaconda/envs/tensorflow2/lib/python3.6/site-packages/sklearn/model_selection/_validation.py:536: FitFailedWarning: Estimator fit failed. The score on this train-test partition for these parameters will be set to nan. Details: \n",
      "ValueError: in user code:\n",
      "\n",
      "    /usr/local/anaconda/envs/tensorflow2/lib/python3.6/site-packages/keras/engine/training.py:853 train_function  *\n",
      "        return step_function(self, iterator)\n",
      "    /usr/local/anaconda/envs/tensorflow2/lib/python3.6/site-packages/keras/engine/training.py:842 step_function  **\n",
      "        outputs = model.distribute_strategy.run(run_step, args=(data,))\n",
      "    /usr/local/anaconda/envs/tensorflow2/lib/python3.6/site-packages/tensorflow/python/distribute/distribute_lib.py:1286 run\n",
      "        return self._extended.call_for_each_replica(fn, args=args, kwargs=kwargs)\n",
      "    /usr/local/anaconda/envs/tensorflow2/lib/python3.6/site-packages/tensorflow/python/distribute/distribute_lib.py:2849 call_for_each_replica\n",
      "        return self._call_for_each_replica(fn, args, kwargs)\n",
      "    /usr/local/anaconda/envs/tensorflow2/lib/python3.6/site-packages/tensorflow/python/distribute/distribute_lib.py:3632 _call_for_each_replica\n",
      "        return fn(*args, **kwargs)\n",
      "    /usr/local/anaconda/envs/tensorflow2/lib/python3.6/site-packages/keras/engine/training.py:835 run_step  **\n",
      "        outputs = model.train_step(data)\n",
      "    /usr/local/anaconda/envs/tensorflow2/lib/python3.6/site-packages/keras/engine/training.py:787 train_step\n",
      "        y_pred = self(x, training=True)\n",
      "    /usr/local/anaconda/envs/tensorflow2/lib/python3.6/site-packages/keras/engine/base_layer.py:1020 __call__\n",
      "        input_spec.assert_input_compatibility(self.input_spec, inputs, self.name)\n",
      "    /usr/local/anaconda/envs/tensorflow2/lib/python3.6/site-packages/keras/engine/input_spec.py:202 assert_input_compatibility\n",
      "        ' input tensors. Inputs received: ' + str(inputs))\n",
      "\n",
      "    ValueError: Layer model_7 expects 2 input(s), but it received 1 input tensors. Inputs received: [<tf.Tensor 'IteratorGetNext:0' shape=(None, 6) dtype=float32>]\n",
      "\n",
      "\n",
      "  FitFailedWarning)\n"
     ]
    },
    {
     "name": "stdout",
     "output_type": "stream",
     "text": [
      "[CV] ................. n_neurons=30, learning_rate=0.01, total=   0.1s\n",
      "[CV] n_neurons=64, learning_rate=0.001 ...............................\n",
      "[CV] ................ n_neurons=64, learning_rate=0.001, total=   0.1s\n",
      "[CV] n_neurons=64, learning_rate=0.001 ...............................\n"
     ]
    },
    {
     "name": "stderr",
     "output_type": "stream",
     "text": [
      "/usr/local/anaconda/envs/tensorflow2/lib/python3.6/site-packages/sklearn/model_selection/_validation.py:536: FitFailedWarning: Estimator fit failed. The score on this train-test partition for these parameters will be set to nan. Details: \n",
      "ValueError: in user code:\n",
      "\n",
      "    /usr/local/anaconda/envs/tensorflow2/lib/python3.6/site-packages/keras/engine/training.py:853 train_function  *\n",
      "        return step_function(self, iterator)\n",
      "    /usr/local/anaconda/envs/tensorflow2/lib/python3.6/site-packages/keras/engine/training.py:842 step_function  **\n",
      "        outputs = model.distribute_strategy.run(run_step, args=(data,))\n",
      "    /usr/local/anaconda/envs/tensorflow2/lib/python3.6/site-packages/tensorflow/python/distribute/distribute_lib.py:1286 run\n",
      "        return self._extended.call_for_each_replica(fn, args=args, kwargs=kwargs)\n",
      "    /usr/local/anaconda/envs/tensorflow2/lib/python3.6/site-packages/tensorflow/python/distribute/distribute_lib.py:2849 call_for_each_replica\n",
      "        return self._call_for_each_replica(fn, args, kwargs)\n",
      "    /usr/local/anaconda/envs/tensorflow2/lib/python3.6/site-packages/tensorflow/python/distribute/distribute_lib.py:3632 _call_for_each_replica\n",
      "        return fn(*args, **kwargs)\n",
      "    /usr/local/anaconda/envs/tensorflow2/lib/python3.6/site-packages/keras/engine/training.py:835 run_step  **\n",
      "        outputs = model.train_step(data)\n",
      "    /usr/local/anaconda/envs/tensorflow2/lib/python3.6/site-packages/keras/engine/training.py:787 train_step\n",
      "        y_pred = self(x, training=True)\n",
      "    /usr/local/anaconda/envs/tensorflow2/lib/python3.6/site-packages/keras/engine/base_layer.py:1020 __call__\n",
      "        input_spec.assert_input_compatibility(self.input_spec, inputs, self.name)\n",
      "    /usr/local/anaconda/envs/tensorflow2/lib/python3.6/site-packages/keras/engine/input_spec.py:202 assert_input_compatibility\n",
      "        ' input tensors. Inputs received: ' + str(inputs))\n",
      "\n",
      "    ValueError: Layer model_8 expects 2 input(s), but it received 1 input tensors. Inputs received: [<tf.Tensor 'IteratorGetNext:0' shape=(None, 5) dtype=float32>]\n",
      "\n",
      "\n",
      "  FitFailedWarning)\n",
      "/usr/local/anaconda/envs/tensorflow2/lib/python3.6/site-packages/sklearn/model_selection/_validation.py:536: FitFailedWarning: Estimator fit failed. The score on this train-test partition for these parameters will be set to nan. Details: \n",
      "ValueError: in user code:\n",
      "\n",
      "    /usr/local/anaconda/envs/tensorflow2/lib/python3.6/site-packages/keras/engine/training.py:853 train_function  *\n",
      "        return step_function(self, iterator)\n",
      "    /usr/local/anaconda/envs/tensorflow2/lib/python3.6/site-packages/keras/engine/training.py:842 step_function  **\n",
      "        outputs = model.distribute_strategy.run(run_step, args=(data,))\n",
      "    /usr/local/anaconda/envs/tensorflow2/lib/python3.6/site-packages/tensorflow/python/distribute/distribute_lib.py:1286 run\n",
      "        return self._extended.call_for_each_replica(fn, args=args, kwargs=kwargs)\n",
      "    /usr/local/anaconda/envs/tensorflow2/lib/python3.6/site-packages/tensorflow/python/distribute/distribute_lib.py:2849 call_for_each_replica\n",
      "        return self._call_for_each_replica(fn, args, kwargs)\n",
      "    /usr/local/anaconda/envs/tensorflow2/lib/python3.6/site-packages/tensorflow/python/distribute/distribute_lib.py:3632 _call_for_each_replica\n",
      "        return fn(*args, **kwargs)\n",
      "    /usr/local/anaconda/envs/tensorflow2/lib/python3.6/site-packages/keras/engine/training.py:835 run_step  **\n",
      "        outputs = model.train_step(data)\n",
      "    /usr/local/anaconda/envs/tensorflow2/lib/python3.6/site-packages/keras/engine/training.py:787 train_step\n",
      "        y_pred = self(x, training=True)\n",
      "    /usr/local/anaconda/envs/tensorflow2/lib/python3.6/site-packages/keras/engine/base_layer.py:1020 __call__\n",
      "        input_spec.assert_input_compatibility(self.input_spec, inputs, self.name)\n",
      "    /usr/local/anaconda/envs/tensorflow2/lib/python3.6/site-packages/keras/engine/input_spec.py:202 assert_input_compatibility\n",
      "        ' input tensors. Inputs received: ' + str(inputs))\n",
      "\n",
      "    ValueError: Layer model_9 expects 2 input(s), but it received 1 input tensors. Inputs received: [<tf.Tensor 'IteratorGetNext:0' shape=(None, 6) dtype=float32>]\n",
      "\n",
      "\n",
      "  FitFailedWarning)\n",
      "/usr/local/anaconda/envs/tensorflow2/lib/python3.6/site-packages/sklearn/model_selection/_validation.py:536: FitFailedWarning: Estimator fit failed. The score on this train-test partition for these parameters will be set to nan. Details: \n",
      "ValueError: in user code:\n",
      "\n",
      "    /usr/local/anaconda/envs/tensorflow2/lib/python3.6/site-packages/keras/engine/training.py:853 train_function  *\n",
      "        return step_function(self, iterator)\n",
      "    /usr/local/anaconda/envs/tensorflow2/lib/python3.6/site-packages/keras/engine/training.py:842 step_function  **\n",
      "        outputs = model.distribute_strategy.run(run_step, args=(data,))\n",
      "    /usr/local/anaconda/envs/tensorflow2/lib/python3.6/site-packages/tensorflow/python/distribute/distribute_lib.py:1286 run\n",
      "        return self._extended.call_for_each_replica(fn, args=args, kwargs=kwargs)\n",
      "    /usr/local/anaconda/envs/tensorflow2/lib/python3.6/site-packages/tensorflow/python/distribute/distribute_lib.py:2849 call_for_each_replica\n",
      "        return self._call_for_each_replica(fn, args, kwargs)\n",
      "    /usr/local/anaconda/envs/tensorflow2/lib/python3.6/site-packages/tensorflow/python/distribute/distribute_lib.py:3632 _call_for_each_replica\n",
      "        return fn(*args, **kwargs)\n",
      "    /usr/local/anaconda/envs/tensorflow2/lib/python3.6/site-packages/keras/engine/training.py:835 run_step  **\n",
      "        outputs = model.train_step(data)\n",
      "    /usr/local/anaconda/envs/tensorflow2/lib/python3.6/site-packages/keras/engine/training.py:787 train_step\n",
      "        y_pred = self(x, training=True)\n",
      "    /usr/local/anaconda/envs/tensorflow2/lib/python3.6/site-packages/keras/engine/base_layer.py:1020 __call__\n",
      "        input_spec.assert_input_compatibility(self.input_spec, inputs, self.name)\n",
      "    /usr/local/anaconda/envs/tensorflow2/lib/python3.6/site-packages/keras/engine/input_spec.py:202 assert_input_compatibility\n",
      "        ' input tensors. Inputs received: ' + str(inputs))\n",
      "\n",
      "    ValueError: Layer model_10 expects 2 input(s), but it received 1 input tensors. Inputs received: [<tf.Tensor 'IteratorGetNext:0' shape=(None, 5) dtype=float32>]\n",
      "\n",
      "\n",
      "  FitFailedWarning)\n"
     ]
    },
    {
     "name": "stdout",
     "output_type": "stream",
     "text": [
      "[CV] ................ n_neurons=64, learning_rate=0.001, total=   0.1s\n",
      "[CV] n_neurons=30, learning_rate=0.001 ...............................\n",
      "[CV] ................ n_neurons=30, learning_rate=0.001, total=   0.1s\n",
      "[CV] n_neurons=30, learning_rate=0.001 ...............................\n",
      "[CV] ................ n_neurons=30, learning_rate=0.001, total=   0.1s\n",
      "[CV] n_neurons=16, learning_rate=0.001 ...............................\n"
     ]
    },
    {
     "name": "stderr",
     "output_type": "stream",
     "text": [
      "/usr/local/anaconda/envs/tensorflow2/lib/python3.6/site-packages/sklearn/model_selection/_validation.py:536: FitFailedWarning: Estimator fit failed. The score on this train-test partition for these parameters will be set to nan. Details: \n",
      "ValueError: in user code:\n",
      "\n",
      "    /usr/local/anaconda/envs/tensorflow2/lib/python3.6/site-packages/keras/engine/training.py:853 train_function  *\n",
      "        return step_function(self, iterator)\n",
      "    /usr/local/anaconda/envs/tensorflow2/lib/python3.6/site-packages/keras/engine/training.py:842 step_function  **\n",
      "        outputs = model.distribute_strategy.run(run_step, args=(data,))\n",
      "    /usr/local/anaconda/envs/tensorflow2/lib/python3.6/site-packages/tensorflow/python/distribute/distribute_lib.py:1286 run\n",
      "        return self._extended.call_for_each_replica(fn, args=args, kwargs=kwargs)\n",
      "    /usr/local/anaconda/envs/tensorflow2/lib/python3.6/site-packages/tensorflow/python/distribute/distribute_lib.py:2849 call_for_each_replica\n",
      "        return self._call_for_each_replica(fn, args, kwargs)\n",
      "    /usr/local/anaconda/envs/tensorflow2/lib/python3.6/site-packages/tensorflow/python/distribute/distribute_lib.py:3632 _call_for_each_replica\n",
      "        return fn(*args, **kwargs)\n",
      "    /usr/local/anaconda/envs/tensorflow2/lib/python3.6/site-packages/keras/engine/training.py:835 run_step  **\n",
      "        outputs = model.train_step(data)\n",
      "    /usr/local/anaconda/envs/tensorflow2/lib/python3.6/site-packages/keras/engine/training.py:787 train_step\n",
      "        y_pred = self(x, training=True)\n",
      "    /usr/local/anaconda/envs/tensorflow2/lib/python3.6/site-packages/keras/engine/base_layer.py:1020 __call__\n",
      "        input_spec.assert_input_compatibility(self.input_spec, inputs, self.name)\n",
      "    /usr/local/anaconda/envs/tensorflow2/lib/python3.6/site-packages/keras/engine/input_spec.py:202 assert_input_compatibility\n",
      "        ' input tensors. Inputs received: ' + str(inputs))\n",
      "\n",
      "    ValueError: Layer model_11 expects 2 input(s), but it received 1 input tensors. Inputs received: [<tf.Tensor 'IteratorGetNext:0' shape=(None, 6) dtype=float32>]\n",
      "\n",
      "\n",
      "  FitFailedWarning)\n",
      "/usr/local/anaconda/envs/tensorflow2/lib/python3.6/site-packages/sklearn/model_selection/_validation.py:536: FitFailedWarning: Estimator fit failed. The score on this train-test partition for these parameters will be set to nan. Details: \n",
      "ValueError: in user code:\n",
      "\n",
      "    /usr/local/anaconda/envs/tensorflow2/lib/python3.6/site-packages/keras/engine/training.py:853 train_function  *\n",
      "        return step_function(self, iterator)\n",
      "    /usr/local/anaconda/envs/tensorflow2/lib/python3.6/site-packages/keras/engine/training.py:842 step_function  **\n",
      "        outputs = model.distribute_strategy.run(run_step, args=(data,))\n",
      "    /usr/local/anaconda/envs/tensorflow2/lib/python3.6/site-packages/tensorflow/python/distribute/distribute_lib.py:1286 run\n",
      "        return self._extended.call_for_each_replica(fn, args=args, kwargs=kwargs)\n",
      "    /usr/local/anaconda/envs/tensorflow2/lib/python3.6/site-packages/tensorflow/python/distribute/distribute_lib.py:2849 call_for_each_replica\n",
      "        return self._call_for_each_replica(fn, args, kwargs)\n",
      "    /usr/local/anaconda/envs/tensorflow2/lib/python3.6/site-packages/tensorflow/python/distribute/distribute_lib.py:3632 _call_for_each_replica\n",
      "        return fn(*args, **kwargs)\n",
      "    /usr/local/anaconda/envs/tensorflow2/lib/python3.6/site-packages/keras/engine/training.py:835 run_step  **\n",
      "        outputs = model.train_step(data)\n",
      "    /usr/local/anaconda/envs/tensorflow2/lib/python3.6/site-packages/keras/engine/training.py:787 train_step\n",
      "        y_pred = self(x, training=True)\n",
      "    /usr/local/anaconda/envs/tensorflow2/lib/python3.6/site-packages/keras/engine/base_layer.py:1020 __call__\n",
      "        input_spec.assert_input_compatibility(self.input_spec, inputs, self.name)\n",
      "    /usr/local/anaconda/envs/tensorflow2/lib/python3.6/site-packages/keras/engine/input_spec.py:202 assert_input_compatibility\n",
      "        ' input tensors. Inputs received: ' + str(inputs))\n",
      "\n",
      "    ValueError: Layer model_12 expects 2 input(s), but it received 1 input tensors. Inputs received: [<tf.Tensor 'IteratorGetNext:0' shape=(None, 5) dtype=float32>]\n",
      "\n",
      "\n",
      "  FitFailedWarning)\n",
      "[Parallel(n_jobs=1)]: Done  10 out of  10 | elapsed:    1.1s finished\n"
     ]
    },
    {
     "name": "stdout",
     "output_type": "stream",
     "text": [
      "[CV] ................ n_neurons=16, learning_rate=0.001, total=   0.1s\n",
      "[CV] n_neurons=16, learning_rate=0.001 ...............................\n",
      "[CV] ................ n_neurons=16, learning_rate=0.001, total=   0.1s\n"
     ]
    },
    {
     "data": {
      "text/plain": [
       "RandomizedSearchCV(cv=2, error_score=nan,\n",
       "                   estimator=<keras.wrappers.scikit_learn.KerasRegressor object at 0x7f1d14104cc0>,\n",
       "                   iid='deprecated', n_iter=5, n_jobs=None,\n",
       "                   param_distributions={'learning_rate': [0.01, 0.001, 0.0005],\n",
       "                                        'n_neurons': [16, 30, 64]},\n",
       "                   pre_dispatch='2*n_jobs', random_state=None, refit=True,\n",
       "                   return_train_score=False, scoring=None, verbose=2)"
      ]
     },
     "execution_count": 58,
     "metadata": {},
     "output_type": "execute_result"
    }
   ],
   "source": [
    "rnd_srch.fit([X_train_A, X_train_B], [y_train,y_train])"
   ]
  },
  {
   "cell_type": "code",
   "execution_count": null,
   "metadata": {},
   "outputs": [],
   "source": []
  }
 ],
 "metadata": {
  "kernelspec": {
   "display_name": "tensorflow2",
   "language": "python",
   "name": "tensorflow2"
  },
  "language_info": {
   "codemirror_mode": {
    "name": "ipython",
    "version": 3
   },
   "file_extension": ".py",
   "mimetype": "text/x-python",
   "name": "python",
   "nbconvert_exporter": "python",
   "pygments_lexer": "ipython3",
   "version": "3.6.8"
  },
  "toc": {
   "base_numbering": 1,
   "nav_menu": {},
   "number_sections": true,
   "sideBar": true,
   "skip_h1_title": false,
   "title_cell": "Table of Contents",
   "title_sidebar": "Contents",
   "toc_cell": false,
   "toc_position": {},
   "toc_section_display": true,
   "toc_window_display": false
  }
 },
 "nbformat": 4,
 "nbformat_minor": 2
}
