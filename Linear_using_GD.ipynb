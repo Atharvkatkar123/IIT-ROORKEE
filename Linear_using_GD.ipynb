{
  "nbformat": 4,
  "nbformat_minor": 0,
  "metadata": {
    "colab": {
      "provenance": []
    },
    "kernelspec": {
      "name": "python3",
      "display_name": "Python 3"
    },
    "language_info": {
      "name": "python"
    }
  },
  "cells": [
    {
      "cell_type": "code",
      "execution_count": 1,
      "metadata": {
        "id": "DpL58imMS3Ym"
      },
      "outputs": [],
      "source": [
        "import numpy as np\n",
        "import pandas as pd\n",
        "import random"
      ]
    },
    {
      "cell_type": "code",
      "source": [],
      "metadata": {
        "id": "7-6XGzv5UJC-"
      },
      "execution_count": null,
      "outputs": []
    },
    {
      "cell_type": "code",
      "source": [
        "from sklearn.linear_model import LinearRegression\n",
        "from sklearn.model_selection import train_test_split"
      ],
      "metadata": {
        "id": "ZOeqzvAqTJ69"
      },
      "execution_count": 4,
      "outputs": []
    },
    {
      "cell_type": "code",
      "source": [
        "df = pd.read_csv(\"M32.csv\")"
      ],
      "metadata": {
        "id": "XAGtDmn4UMWM"
      },
      "execution_count": 5,
      "outputs": []
    },
    {
      "cell_type": "code",
      "source": [
        "df.columns"
      ],
      "metadata": {
        "colab": {
          "base_uri": "https://localhost:8080/"
        },
        "id": "vZXJCykyUg_k",
        "outputId": "8f123966-e416-4187-a69d-6b462467da88"
      },
      "execution_count": 6,
      "outputs": [
        {
          "output_type": "execute_result",
          "data": {
            "text/plain": [
              "Index(['Date', 'Batting Team', 'Bowling Team', 'Striker', 'Non-Striker',\n",
              "       'Bowler', 'Innings', 'Unique', 'Over Number', 'Over Ball', 'Runs',\n",
              "       'Wides', 'Team Runs', 'Remaining Overs', 'Lead By', 'Trail By',\n",
              "       'Fall Of Wickets', 'Day', 'Session', 'Leg Byes', 'No Balls', 'Balls',\n",
              "       'Byes', 'Remaining Balls', 'Remaining Runs', 'Run Rate', 'Batter Sixes',\n",
              "       'Batter Runs', 'Batter Fours', 'Batter Balls', 'Batter Total Runs',\n",
              "       'Dismissal Type', 'Dismissal Fielder', 'On Field Minutes', 'Shot Angle',\n",
              "       'Shot Magnitude', 'Wagon Position', 'Pitching Length', 'Pitching Line',\n",
              "       'Shot Connection', 'False Shot', 'Feet Movement', 'Shot Type',\n",
              "       'Delivery Type', 'Bowling Side', 'Bowling Type', 'Bowling Hand',\n",
              "       'Catch Difficulty', 'Bounce_Angle', 'Pitch_x', 'Pitch_y', 'Friction',\n",
              "       'Restitution', 'Deviation', 'Reaction Time', 'Release Speed', 'Swing',\n",
              "       'Swing Distance', 'Six Distance'],\n",
              "      dtype='object')"
            ]
          },
          "metadata": {},
          "execution_count": 6
        }
      ]
    },
    {
      "cell_type": "code",
      "source": [
        "df1 = df[[\"Runs\",\"Unique\"]]"
      ],
      "metadata": {
        "id": "_X1aZ4ptUx2X"
      },
      "execution_count": 11,
      "outputs": []
    },
    {
      "cell_type": "code",
      "source": [
        "X_train = df[\"Runs\"][:200].values.reshape(-1, 1)"
      ],
      "metadata": {
        "id": "0dA5-l4hWy62"
      },
      "execution_count": 40,
      "outputs": []
    },
    {
      "cell_type": "code",
      "source": [
        "y_train = df[\"Unique\"][:200]"
      ],
      "metadata": {
        "id": "qHCdrs-5XE3S"
      },
      "execution_count": 41,
      "outputs": []
    },
    {
      "cell_type": "code",
      "source": [
        "X_test = df[\"Runs\"][200:].values.reshape(-1, 1)\n",
        "y_test = df[\"Unique\"][200:]"
      ],
      "metadata": {
        "id": "Enu3c9_DW9ix"
      },
      "execution_count": 76,
      "outputs": []
    },
    {
      "cell_type": "code",
      "source": [
        "df1.count()"
      ],
      "metadata": {
        "colab": {
          "base_uri": "https://localhost:8080/",
          "height": 147
        },
        "id": "GY2n7iVzVpFp",
        "outputId": "b97a5c25-7872-437d-9643-ca0faf7c09aa"
      },
      "execution_count": 14,
      "outputs": [
        {
          "output_type": "execute_result",
          "data": {
            "text/plain": [
              "Runs      252\n",
              "Unique    252\n",
              "dtype: int64"
            ],
            "text/html": [
              "<div>\n",
              "<style scoped>\n",
              "    .dataframe tbody tr th:only-of-type {\n",
              "        vertical-align: middle;\n",
              "    }\n",
              "\n",
              "    .dataframe tbody tr th {\n",
              "        vertical-align: top;\n",
              "    }\n",
              "\n",
              "    .dataframe thead th {\n",
              "        text-align: right;\n",
              "    }\n",
              "</style>\n",
              "<table border=\"1\" class=\"dataframe\">\n",
              "  <thead>\n",
              "    <tr style=\"text-align: right;\">\n",
              "      <th></th>\n",
              "      <th>0</th>\n",
              "    </tr>\n",
              "  </thead>\n",
              "  <tbody>\n",
              "    <tr>\n",
              "      <th>Runs</th>\n",
              "      <td>252</td>\n",
              "    </tr>\n",
              "    <tr>\n",
              "      <th>Unique</th>\n",
              "      <td>252</td>\n",
              "    </tr>\n",
              "  </tbody>\n",
              "</table>\n",
              "</div><br><label><b>dtype:</b> int64</label>"
            ]
          },
          "metadata": {},
          "execution_count": 14
        }
      ]
    },
    {
      "cell_type": "code",
      "source": [
        "lr = LinearRegression()\n"
      ],
      "metadata": {
        "id": "r3oA7LqkWQnl"
      },
      "execution_count": 43,
      "outputs": []
    },
    {
      "cell_type": "code",
      "source": [
        "for i in range(3000):\n",
        "  sample_weights = np.random.rand(200)\n",
        "  clf_lr = lr.fit(X_train,y_train,sample_weight=sample_weights)\n",
        "  prediction = clf_lr.predict(X_test)\n",
        "  mse = mean_squared_error(y_test,prediction)\n",
        "  if mse <= 30.00:\n",
        "    optimal_weights = sample_weights\n",
        "    print(f'the model accuracy is : {mse}')\n",
        "    break"
      ],
      "metadata": {
        "id": "CxnqpYHZWeic"
      },
      "execution_count": 93,
      "outputs": []
    },
    {
      "cell_type": "code",
      "source": [
        "print(f'the model accuracy is : {mse}')"
      ],
      "metadata": {
        "colab": {
          "base_uri": "https://localhost:8080/"
        },
        "id": "SsFc7w76ey6v",
        "outputId": "37166a9f-9acf-491d-b7f4-56ba677b968c"
      },
      "execution_count": 94,
      "outputs": [
        {
          "output_type": "stream",
          "name": "stdout",
          "text": [
            "the model accuracy is : 54.02283026180574\n"
          ]
        }
      ]
    },
    {
      "cell_type": "code",
      "source": [
        "sample_optimal = sample_weights"
      ],
      "metadata": {
        "id": "i1hDFupWbMdt"
      },
      "execution_count": 73,
      "outputs": []
    },
    {
      "cell_type": "code",
      "source": [
        "clf_lr.score(X_test,y_test)"
      ],
      "metadata": {
        "colab": {
          "base_uri": "https://localhost:8080/"
        },
        "id": "tPaOjBbFWl7j",
        "outputId": "ad4bfbcf-2cbd-4058-c86e-67fe6c314a17"
      },
      "execution_count": 71,
      "outputs": [
        {
          "output_type": "execute_result",
          "data": {
            "text/plain": [
              "-9.10938568919469"
            ]
          },
          "metadata": {},
          "execution_count": 71
        }
      ]
    },
    {
      "cell_type": "code",
      "source": [
        "from sklearn.metrics import mean_squared_error\n",
        "prediction = clf_lr.predict(X_test)\n",
        "mean_squared_error(y_test, prediction)"
      ],
      "metadata": {
        "colab": {
          "base_uri": "https://localhost:8080/"
        },
        "id": "rOF8jfRiYRBz",
        "outputId": "ede4b549-47f6-4163-f771-ec93a4e08d94"
      },
      "execution_count": 72,
      "outputs": [
        {
          "output_type": "execute_result",
          "data": {
            "text/plain": [
              "60.852071322552106"
            ]
          },
          "metadata": {},
          "execution_count": 72
        }
      ]
    },
    {
      "cell_type": "code",
      "source": [
        "clf_lr = lr.fit(X_train,y_train,sample_weight=optimal_weights)"
      ],
      "metadata": {
        "id": "8QmBN3SrYgBP"
      },
      "execution_count": 95,
      "outputs": []
    },
    {
      "cell_type": "code",
      "source": [
        "preidction = clf_lr.predict(X_test[3].reshape(1, -1))\n",
        "print(f'predicted value: {preidction}, mean_squared_error: {mean_squared_error(y_test, prediction)}')"
      ],
      "metadata": {
        "colab": {
          "base_uri": "https://localhost:8080/"
        },
        "id": "0yzMYuNkbaa9",
        "outputId": "ea4da94f-0757-49e0-d5f4-6363597c47c7"
      },
      "execution_count": 96,
      "outputs": [
        {
          "output_type": "stream",
          "name": "stdout",
          "text": [
            "predicted value: [8.71763064], mean_squared_error: 54.02283026180574\n"
          ]
        }
      ]
    },
    {
      "cell_type": "code",
      "source": [
        "import numpy as np\n",
        "\n",
        "# Sigmoid function\n",
        "def sigmoid(z):\n",
        "    return 1 / (1 + np.exp(-z))\n",
        "\n",
        "# Binary Cross Entropy (Log Loss)\n",
        "def binary_cross_entropy(y_true, y_pred):\n",
        "    y_pred = sigmoid(y_pred)  # Apply sigmoid first\n",
        "    return -np.sum(y_true * np.log(y_pred) + (1 - y_true) * np.log(1 - y_pred))\n",
        "\n",
        "# Logistic Regression using Gradient Descent\n",
        "class LogisticRegressionGD:\n",
        "    def __init__(self, learning_rate=0.01, n_iterations=1000):\n",
        "        self.learning_rate = learning_rate\n",
        "        self.n_iterations = n_iterations\n",
        "        self.weights = None\n",
        "        self.bias = None\n",
        "\n",
        "    def fit(self, X, y):\n",
        "        X = X.reshape(-1, 1)  # Reshape to (n_samples, 1)\n",
        "        n_samples, n_features = X.shape\n",
        "        self.weights = np.zeros(n_features)\n",
        "        self.bias = 0\n",
        "\n",
        "        for _ in range(self.n_iterations):\n",
        "            linear_model = np.dot(X, self.weights) + self.bias\n",
        "            y_predicted = sigmoid(linear_model)\n",
        "\n",
        "            dw = (1 / n_samples) * np.dot(X.T, (y_predicted - y))\n",
        "            db = (1 / n_samples) * np.sum(y_predicted - y)\n",
        "\n",
        "            self.weights -= self.learning_rate * dw\n",
        "            self.bias -= self.learning_rate * db\n",
        "\n",
        "    def predict(self, X):\n",
        "        X = np.array(X).reshape(-1, 1)\n",
        "        linear_model = np.dot(X, self.weights) + self.bias\n",
        "        y_predicted = sigmoid(linear_model)\n",
        "        return  y_predicted  # Threshold at 0.5\n",
        "\n",
        "# Data\n",
        "X = np.array([10, 2, 30, 14, 13, 7, 12])  # Ages\n",
        "y = np.array([0, 0, 1, 1, 0, 0, 0])  # Labels: 1 if age > 13, else 0\n",
        "\n",
        "# Model\n",
        "model = LogisticRegressionGD(learning_rate=0.1, n_iterations=3000)\n",
        "model.fit(X, y)\n",
        "\n",
        "# Predictions\n",
        "test_samples = [16, 7, 13]\n",
        "preds = model.predict([16, 7, 13,12,14,15,16,11,11.5,13.2])\n",
        "\n",
        "print(\"Predictions:\", preds)\n"
      ],
      "metadata": {
        "colab": {
          "base_uri": "https://localhost:8080/"
        },
        "id": "8c3FELwhcFBX",
        "outputId": "4c142d51-c059-42ba-b9f2-471377ce25fe"
      },
      "execution_count": 101,
      "outputs": [
        {
          "output_type": "stream",
          "name": "stdout",
          "text": [
            "Predictions: [0.76509897 0.0101616  0.32320509 0.20116077 0.47524347 0.63201405\n",
            " 0.76509897 0.1172194  0.15459039 0.35181141]\n"
          ]
        }
      ]
    },
    {
      "cell_type": "code",
      "source": [],
      "metadata": {
        "id": "OVONlSixkDiB"
      },
      "execution_count": null,
      "outputs": []
    }
  ]
}